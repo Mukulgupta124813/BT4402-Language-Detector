{
  "cells": [
    {
      "cell_type": "code",
      "execution_count": null,
      "id": "2d3d7b33",
      "metadata": {
        "execution": {
          "iopub.execute_input": "2023-05-09T17:29:50.796709Z",
          "iopub.status.busy": "2023-05-09T17:29:50.796304Z",
          "iopub.status.idle": "2023-05-09T17:30:04.860496Z",
          "shell.execute_reply": "2023-05-09T17:30:04.858880Z"
        },
        "papermill": {
          "duration": 14.081525,
          "end_time": "2023-05-09T17:30:04.863396",
          "exception": false,
          "start_time": "2023-05-09T17:29:50.781871",
          "status": "completed"
        },
        "tags": [],
        "colab": {
          "base_uri": "https://localhost:8080/"
        },
        "id": "2d3d7b33",
        "outputId": "430c473c-4716-40ec-97de-a997457eed0b"
      },
      "outputs": [
        {
          "output_type": "stream",
          "name": "stderr",
          "text": [
            "[nltk_data] Downloading package punkt to /root/nltk_data...\n",
            "[nltk_data]   Package punkt is already up-to-date!\n",
            "[nltk_data] Downloading package stopwords to /root/nltk_data...\n",
            "[nltk_data]   Package stopwords is already up-to-date!\n"
          ]
        }
      ],
      "source": [
        "import numpy as np\n",
        "import pandas as pd\n",
        "import matplotlib.pyplot as plt\n",
        "%matplotlib inline\n",
        "import nltk as nltk\n",
        "nltk.download('punkt')\n",
        "nltk.download('stopwords')\n",
        "import string as str\n",
        "from nltk.tokenize import word_tokenize\n",
        "import nltk.data\n",
        "from nltk.corpus import stopwords\n",
        "from sklearn.feature_extraction.text import TfidfVectorizer\n",
        "from sklearn.feature_extraction.text import CountVectorizer\n",
        "from sklearn.model_selection import train_test_split\n",
        "from sklearn.naive_bayes import MultinomialNB\n",
        "from sklearn.metrics import precision_score, recall_score, accuracy_score,confusion_matrix,classification_report\n",
        "import os\n",
        "os.environ['KMP_DUPLICATE_LIB_OK']='True'"
      ]
    },
    {
      "cell_type": "code",
      "execution_count": null,
      "id": "00782a6f",
      "metadata": {
        "execution": {
          "iopub.execute_input": "2023-05-09T17:30:04.889395Z",
          "iopub.status.busy": "2023-05-09T17:30:04.888594Z",
          "iopub.status.idle": "2023-05-09T17:30:05.050834Z",
          "shell.execute_reply": "2023-05-09T17:30:05.049136Z"
        },
        "papermill": {
          "duration": 0.178295,
          "end_time": "2023-05-09T17:30:05.053600",
          "exception": false,
          "start_time": "2023-05-09T17:30:04.875305",
          "status": "completed"
        },
        "tags": [],
        "id": "00782a6f",
        "outputId": "28ca3cc7-d7a9-47de-c2b2-6a7ab958c811",
        "colab": {
          "base_uri": "https://localhost:8080/",
          "height": 206
        }
      },
      "outputs": [
        {
          "output_type": "execute_result",
          "data": {
            "text/plain": [
              "                                                                                                                                                                                                 Text  \\\n",
              "0                                                                                                                Nature, in the broadest sense, is the natural, physical, material world or universe.   \n",
              "1                                                                                                             \"Nature\" can refer to the phenomena of the physical world, and also to life in general.   \n",
              "2                                                                                                                                   The study of nature is a large, if not the only, part of science.   \n",
              "3                                                                         Although humans are part of nature, human activity is often understood as a separate category from other natural phenomena.   \n",
              "4  [1] The word nature is borrowed from the Old French nature and is derived from the Latin word natura, or \"essential qualities, innate disposition\", and in ancient times, literally meant \"birth\".   \n",
              "\n",
              "  Language  \n",
              "0  English  \n",
              "1  English  \n",
              "2  English  \n",
              "3  English  \n",
              "4  English  "
            ],
            "text/html": [
              "\n",
              "  <div id=\"df-54068a21-7efd-4cf2-af32-1f245a2c118d\" class=\"colab-df-container\">\n",
              "    <div>\n",
              "<style scoped>\n",
              "    .dataframe tbody tr th:only-of-type {\n",
              "        vertical-align: middle;\n",
              "    }\n",
              "\n",
              "    .dataframe tbody tr th {\n",
              "        vertical-align: top;\n",
              "    }\n",
              "\n",
              "    .dataframe thead th {\n",
              "        text-align: right;\n",
              "    }\n",
              "</style>\n",
              "<table border=\"1\" class=\"dataframe\">\n",
              "  <thead>\n",
              "    <tr style=\"text-align: right;\">\n",
              "      <th></th>\n",
              "      <th>Text</th>\n",
              "      <th>Language</th>\n",
              "    </tr>\n",
              "  </thead>\n",
              "  <tbody>\n",
              "    <tr>\n",
              "      <th>0</th>\n",
              "      <td>Nature, in the broadest sense, is the natural, physical, material world or universe.</td>\n",
              "      <td>English</td>\n",
              "    </tr>\n",
              "    <tr>\n",
              "      <th>1</th>\n",
              "      <td>\"Nature\" can refer to the phenomena of the physical world, and also to life in general.</td>\n",
              "      <td>English</td>\n",
              "    </tr>\n",
              "    <tr>\n",
              "      <th>2</th>\n",
              "      <td>The study of nature is a large, if not the only, part of science.</td>\n",
              "      <td>English</td>\n",
              "    </tr>\n",
              "    <tr>\n",
              "      <th>3</th>\n",
              "      <td>Although humans are part of nature, human activity is often understood as a separate category from other natural phenomena.</td>\n",
              "      <td>English</td>\n",
              "    </tr>\n",
              "    <tr>\n",
              "      <th>4</th>\n",
              "      <td>[1] The word nature is borrowed from the Old French nature and is derived from the Latin word natura, or \"essential qualities, innate disposition\", and in ancient times, literally meant \"birth\".</td>\n",
              "      <td>English</td>\n",
              "    </tr>\n",
              "  </tbody>\n",
              "</table>\n",
              "</div>\n",
              "    <div class=\"colab-df-buttons\">\n",
              "\n",
              "  <div class=\"colab-df-container\">\n",
              "    <button class=\"colab-df-convert\" onclick=\"convertToInteractive('df-54068a21-7efd-4cf2-af32-1f245a2c118d')\"\n",
              "            title=\"Convert this dataframe to an interactive table.\"\n",
              "            style=\"display:none;\">\n",
              "\n",
              "  <svg xmlns=\"http://www.w3.org/2000/svg\" height=\"24px\" viewBox=\"0 -960 960 960\">\n",
              "    <path d=\"M120-120v-720h720v720H120Zm60-500h600v-160H180v160Zm220 220h160v-160H400v160Zm0 220h160v-160H400v160ZM180-400h160v-160H180v160Zm440 0h160v-160H620v160ZM180-180h160v-160H180v160Zm440 0h160v-160H620v160Z\"/>\n",
              "  </svg>\n",
              "    </button>\n",
              "\n",
              "  <style>\n",
              "    .colab-df-container {\n",
              "      display:flex;\n",
              "      gap: 12px;\n",
              "    }\n",
              "\n",
              "    .colab-df-convert {\n",
              "      background-color: #E8F0FE;\n",
              "      border: none;\n",
              "      border-radius: 50%;\n",
              "      cursor: pointer;\n",
              "      display: none;\n",
              "      fill: #1967D2;\n",
              "      height: 32px;\n",
              "      padding: 0 0 0 0;\n",
              "      width: 32px;\n",
              "    }\n",
              "\n",
              "    .colab-df-convert:hover {\n",
              "      background-color: #E2EBFA;\n",
              "      box-shadow: 0px 1px 2px rgba(60, 64, 67, 0.3), 0px 1px 3px 1px rgba(60, 64, 67, 0.15);\n",
              "      fill: #174EA6;\n",
              "    }\n",
              "\n",
              "    .colab-df-buttons div {\n",
              "      margin-bottom: 4px;\n",
              "    }\n",
              "\n",
              "    [theme=dark] .colab-df-convert {\n",
              "      background-color: #3B4455;\n",
              "      fill: #D2E3FC;\n",
              "    }\n",
              "\n",
              "    [theme=dark] .colab-df-convert:hover {\n",
              "      background-color: #434B5C;\n",
              "      box-shadow: 0px 1px 3px 1px rgba(0, 0, 0, 0.15);\n",
              "      filter: drop-shadow(0px 1px 2px rgba(0, 0, 0, 0.3));\n",
              "      fill: #FFFFFF;\n",
              "    }\n",
              "  </style>\n",
              "\n",
              "    <script>\n",
              "      const buttonEl =\n",
              "        document.querySelector('#df-54068a21-7efd-4cf2-af32-1f245a2c118d button.colab-df-convert');\n",
              "      buttonEl.style.display =\n",
              "        google.colab.kernel.accessAllowed ? 'block' : 'none';\n",
              "\n",
              "      async function convertToInteractive(key) {\n",
              "        const element = document.querySelector('#df-54068a21-7efd-4cf2-af32-1f245a2c118d');\n",
              "        const dataTable =\n",
              "          await google.colab.kernel.invokeFunction('convertToInteractive',\n",
              "                                                    [key], {});\n",
              "        if (!dataTable) return;\n",
              "\n",
              "        const docLinkHtml = 'Like what you see? Visit the ' +\n",
              "          '<a target=\"_blank\" href=https://colab.research.google.com/notebooks/data_table.ipynb>data table notebook</a>'\n",
              "          + ' to learn more about interactive tables.';\n",
              "        element.innerHTML = '';\n",
              "        dataTable['output_type'] = 'display_data';\n",
              "        await google.colab.output.renderOutput(dataTable, element);\n",
              "        const docLink = document.createElement('div');\n",
              "        docLink.innerHTML = docLinkHtml;\n",
              "        element.appendChild(docLink);\n",
              "      }\n",
              "    </script>\n",
              "  </div>\n",
              "\n",
              "\n",
              "<div id=\"df-7c3a0bd8-c81b-406f-803b-c7396c961921\">\n",
              "  <button class=\"colab-df-quickchart\" onclick=\"quickchart('df-7c3a0bd8-c81b-406f-803b-c7396c961921')\"\n",
              "            title=\"Suggest charts.\"\n",
              "            style=\"display:none;\">\n",
              "\n",
              "<svg xmlns=\"http://www.w3.org/2000/svg\" height=\"24px\"viewBox=\"0 0 24 24\"\n",
              "     width=\"24px\">\n",
              "    <g>\n",
              "        <path d=\"M19 3H5c-1.1 0-2 .9-2 2v14c0 1.1.9 2 2 2h14c1.1 0 2-.9 2-2V5c0-1.1-.9-2-2-2zM9 17H7v-7h2v7zm4 0h-2V7h2v10zm4 0h-2v-4h2v4z\"/>\n",
              "    </g>\n",
              "</svg>\n",
              "  </button>\n",
              "\n",
              "<style>\n",
              "  .colab-df-quickchart {\n",
              "      --bg-color: #E8F0FE;\n",
              "      --fill-color: #1967D2;\n",
              "      --hover-bg-color: #E2EBFA;\n",
              "      --hover-fill-color: #174EA6;\n",
              "      --disabled-fill-color: #AAA;\n",
              "      --disabled-bg-color: #DDD;\n",
              "  }\n",
              "\n",
              "  [theme=dark] .colab-df-quickchart {\n",
              "      --bg-color: #3B4455;\n",
              "      --fill-color: #D2E3FC;\n",
              "      --hover-bg-color: #434B5C;\n",
              "      --hover-fill-color: #FFFFFF;\n",
              "      --disabled-bg-color: #3B4455;\n",
              "      --disabled-fill-color: #666;\n",
              "  }\n",
              "\n",
              "  .colab-df-quickchart {\n",
              "    background-color: var(--bg-color);\n",
              "    border: none;\n",
              "    border-radius: 50%;\n",
              "    cursor: pointer;\n",
              "    display: none;\n",
              "    fill: var(--fill-color);\n",
              "    height: 32px;\n",
              "    padding: 0;\n",
              "    width: 32px;\n",
              "  }\n",
              "\n",
              "  .colab-df-quickchart:hover {\n",
              "    background-color: var(--hover-bg-color);\n",
              "    box-shadow: 0 1px 2px rgba(60, 64, 67, 0.3), 0 1px 3px 1px rgba(60, 64, 67, 0.15);\n",
              "    fill: var(--button-hover-fill-color);\n",
              "  }\n",
              "\n",
              "  .colab-df-quickchart-complete:disabled,\n",
              "  .colab-df-quickchart-complete:disabled:hover {\n",
              "    background-color: var(--disabled-bg-color);\n",
              "    fill: var(--disabled-fill-color);\n",
              "    box-shadow: none;\n",
              "  }\n",
              "\n",
              "  .colab-df-spinner {\n",
              "    border: 2px solid var(--fill-color);\n",
              "    border-color: transparent;\n",
              "    border-bottom-color: var(--fill-color);\n",
              "    animation:\n",
              "      spin 1s steps(1) infinite;\n",
              "  }\n",
              "\n",
              "  @keyframes spin {\n",
              "    0% {\n",
              "      border-color: transparent;\n",
              "      border-bottom-color: var(--fill-color);\n",
              "      border-left-color: var(--fill-color);\n",
              "    }\n",
              "    20% {\n",
              "      border-color: transparent;\n",
              "      border-left-color: var(--fill-color);\n",
              "      border-top-color: var(--fill-color);\n",
              "    }\n",
              "    30% {\n",
              "      border-color: transparent;\n",
              "      border-left-color: var(--fill-color);\n",
              "      border-top-color: var(--fill-color);\n",
              "      border-right-color: var(--fill-color);\n",
              "    }\n",
              "    40% {\n",
              "      border-color: transparent;\n",
              "      border-right-color: var(--fill-color);\n",
              "      border-top-color: var(--fill-color);\n",
              "    }\n",
              "    60% {\n",
              "      border-color: transparent;\n",
              "      border-right-color: var(--fill-color);\n",
              "    }\n",
              "    80% {\n",
              "      border-color: transparent;\n",
              "      border-right-color: var(--fill-color);\n",
              "      border-bottom-color: var(--fill-color);\n",
              "    }\n",
              "    90% {\n",
              "      border-color: transparent;\n",
              "      border-bottom-color: var(--fill-color);\n",
              "    }\n",
              "  }\n",
              "</style>\n",
              "\n",
              "  <script>\n",
              "    async function quickchart(key) {\n",
              "      const quickchartButtonEl =\n",
              "        document.querySelector('#' + key + ' button');\n",
              "      quickchartButtonEl.disabled = true;  // To prevent multiple clicks.\n",
              "      quickchartButtonEl.classList.add('colab-df-spinner');\n",
              "      try {\n",
              "        const charts = await google.colab.kernel.invokeFunction(\n",
              "            'suggestCharts', [key], {});\n",
              "      } catch (error) {\n",
              "        console.error('Error during call to suggestCharts:', error);\n",
              "      }\n",
              "      quickchartButtonEl.classList.remove('colab-df-spinner');\n",
              "      quickchartButtonEl.classList.add('colab-df-quickchart-complete');\n",
              "    }\n",
              "    (() => {\n",
              "      let quickchartButtonEl =\n",
              "        document.querySelector('#df-7c3a0bd8-c81b-406f-803b-c7396c961921 button');\n",
              "      quickchartButtonEl.style.display =\n",
              "        google.colab.kernel.accessAllowed ? 'block' : 'none';\n",
              "    })();\n",
              "  </script>\n",
              "</div>\n",
              "    </div>\n",
              "  </div>\n"
            ]
          },
          "metadata": {},
          "execution_count": 2
        }
      ],
      "source": [
        "data=pd.read_csv(\"Language Detection.csv\")\n",
        "pd.set_option('display.max_colwidth',200)\n",
        "data.head()"
      ]
    },
    {
      "cell_type": "code",
      "execution_count": null,
      "id": "958580d1",
      "metadata": {
        "execution": {
          "iopub.execute_input": "2023-05-09T17:30:05.078677Z",
          "iopub.status.busy": "2023-05-09T17:30:05.078286Z",
          "iopub.status.idle": "2023-05-09T17:30:05.121803Z",
          "shell.execute_reply": "2023-05-09T17:30:05.119680Z"
        },
        "papermill": {
          "duration": 0.060166,
          "end_time": "2023-05-09T17:30:05.125573",
          "exception": false,
          "start_time": "2023-05-09T17:30:05.065407",
          "status": "completed"
        },
        "tags": [],
        "id": "958580d1",
        "outputId": "bd88bb83-23d0-4c88-ea78-f1150e568fba",
        "colab": {
          "base_uri": "https://localhost:8080/"
        }
      },
      "outputs": [
        {
          "output_type": "stream",
          "name": "stdout",
          "text": [
            "<class 'pandas.core.frame.DataFrame'>\n",
            "RangeIndex: 10337 entries, 0 to 10336\n",
            "Data columns (total 2 columns):\n",
            " #   Column    Non-Null Count  Dtype \n",
            "---  ------    --------------  ----- \n",
            " 0   Text      10337 non-null  object\n",
            " 1   Language  10337 non-null  object\n",
            "dtypes: object(2)\n",
            "memory usage: 161.6+ KB\n"
          ]
        }
      ],
      "source": [
        "data.info()"
      ]
    },
    {
      "cell_type": "code",
      "execution_count": null,
      "id": "a426bb8d",
      "metadata": {
        "execution": {
          "iopub.execute_input": "2023-05-09T17:30:05.153648Z",
          "iopub.status.busy": "2023-05-09T17:30:05.153103Z",
          "iopub.status.idle": "2023-05-09T17:30:05.163748Z",
          "shell.execute_reply": "2023-05-09T17:30:05.161723Z"
        },
        "papermill": {
          "duration": 0.027965,
          "end_time": "2023-05-09T17:30:05.166260",
          "exception": false,
          "start_time": "2023-05-09T17:30:05.138295",
          "status": "completed"
        },
        "tags": [],
        "id": "a426bb8d",
        "outputId": "1a611af7-730b-4033-ef20-0cdcab287839",
        "colab": {
          "base_uri": "https://localhost:8080/"
        }
      },
      "outputs": [
        {
          "output_type": "stream",
          "name": "stdout",
          "text": [
            "0                                                                                                                           Nature, in the broadest sense, is the natural, physical, material world or universe.\n",
            "1                                                                                                                        \"Nature\" can refer to the phenomena of the physical world, and also to life in general.\n",
            "2                                                                                                                                              The study of nature is a large, if not the only, part of science.\n",
            "3                                                                                    Although humans are part of nature, human activity is often understood as a separate category from other natural phenomena.\n",
            "4             [1] The word nature is borrowed from the Old French nature and is derived from the Latin word natura, or \"essential qualities, innate disposition\", and in ancient times, literally meant \"birth\".\n",
            "                                                                                                          ...                                                                                                   \n",
            "10332                                                                                                                                            ನಿಮ್ಮ ತಪ್ಪು ಏನು ಬಂದಿದೆಯೆಂದರೆ ಆ ದಿನದಿಂದ ನಿಮಗೆ ಒಳ್ಳೆಯದನ್ನು ನೀಡೋಣ.\n",
            "10333    ನಾರ್ಸಿಸಾ ತಾನು ಮೊದಲಿಗೆ ಹೆಣಗಾಡುತ್ತಿದ್ದ ಮಾರ್ಗಗಳನ್ನು ಬದಲಾಯಿಸಿದಳು ಆದರೆ ನಿಧಾನವಾಗಿ ಮತ್ತು ತಾಳ್ಮೆಯಿಂದ ಅವಳು ಒಂದು ದಿನ ಮೆಲ್ಲಿ ಆಗಲು ಪ್ರಾರಂಭಿಸಿದಳು ಮೆಲ್ಲಿ ಮತ್ತು ಟೆರ್ರಿ ಮತ್ತೆ ಮರಿಯನ್ ಅವರನ್ನು ಭೇಟಿಯಾಗಲು ಬಂದರು ಓಹ್ ಹಲ...\n",
            "10334                                                                                                     ಹೇಗೆ ' ನಾರ್ಸಿಸಿಸಮ್ ಈಗ ಮರಿಯನ್ ಅವರಿಗೆ ಸಂಭವಿಸಿದ ಎಲ್ಲವನ್ನೂ ಹೇಳಿದೆ ಮತ್ತು ಅವಳು ಆ ಸಮಯದಿಂದ ತುಂಬಾ ಬದಲಾಗಿದ್ದಾಳೆ.\n",
            "10335                                                                                                                                         ಅವಳು ಈಗ ಹೆಚ್ಚು ಚಿನ್ನದ ಬ್ರೆಡ್ ಬಯಸುವುದಿಲ್ಲ ಎಂದು ನಾನು ess ಹಿಸಿದ್ದೇನೆ.\n",
            "10336                                                                     ಟೆರ್ರಿ ನೀವು ನಿಜವಾಗಿಯೂ ಆ ದೇವದೂತನಂತೆ ಸ್ವಲ್ಪ ಕಾಣುತ್ತಿದ್ದೀರಿ ಆದರೆ ನಾನು ಏನು ನೋಡುತ್ತಿದ್ದೇನೆ ನೀವು ಹೇಗೆ ಅವನಾಗಬಹುದು ನೀವು ಇಬ್ಬರು ತುಂಬಾ ಒಳ್ಳೆಯವರು\n",
            "Name: Text, Length: 10337, dtype: object\n"
          ]
        }
      ],
      "source": [
        "column_a = data[\"Text\"]\n",
        "print(column_a)"
      ]
    },
    {
      "cell_type": "code",
      "execution_count": null,
      "id": "e5cca86f",
      "metadata": {
        "execution": {
          "iopub.execute_input": "2023-05-09T17:30:05.194235Z",
          "iopub.status.busy": "2023-05-09T17:30:05.193510Z",
          "iopub.status.idle": "2023-05-09T17:30:05.200346Z",
          "shell.execute_reply": "2023-05-09T17:30:05.198509Z"
        },
        "papermill": {
          "duration": 0.023646,
          "end_time": "2023-05-09T17:30:05.203212",
          "exception": false,
          "start_time": "2023-05-09T17:30:05.179566",
          "status": "completed"
        },
        "tags": [],
        "id": "e5cca86f"
      },
      "outputs": [],
      "source": [
        "df=data.copy()"
      ]
    },
    {
      "cell_type": "code",
      "execution_count": null,
      "id": "672913f9",
      "metadata": {
        "execution": {
          "iopub.execute_input": "2023-05-09T17:30:05.232094Z",
          "iopub.status.busy": "2023-05-09T17:30:05.231216Z",
          "iopub.status.idle": "2023-05-09T17:30:05.242384Z",
          "shell.execute_reply": "2023-05-09T17:30:05.240903Z"
        },
        "papermill": {
          "duration": 0.027814,
          "end_time": "2023-05-09T17:30:05.244982",
          "exception": false,
          "start_time": "2023-05-09T17:30:05.217168",
          "status": "completed"
        },
        "tags": [],
        "id": "672913f9",
        "outputId": "40793588-f304-48b4-b918-5dc4a1e4a85c",
        "colab": {
          "base_uri": "https://localhost:8080/"
        }
      },
      "outputs": [
        {
          "output_type": "execute_result",
          "data": {
            "text/plain": [
              "English       1385\n",
              "French        1014\n",
              "Spanish        819\n",
              "Portugeese     739\n",
              "Italian        698\n",
              "Russian        692\n",
              "Sweedish       676\n",
              "Malayalam      594\n",
              "Dutch          546\n",
              "Arabic         536\n",
              "Turkish        474\n",
              "German         470\n",
              "Tamil          469\n",
              "Danish         428\n",
              "Kannada        369\n",
              "Greek          365\n",
              "Hindi           63\n",
              "Name: Language, dtype: int64"
            ]
          },
          "metadata": {},
          "execution_count": 6
        }
      ],
      "source": [
        "df.Language.value_counts()"
      ]
    },
    {
      "cell_type": "code",
      "execution_count": null,
      "id": "a84badeb",
      "metadata": {
        "execution": {
          "iopub.execute_input": "2023-05-09T17:30:05.271352Z",
          "iopub.status.busy": "2023-05-09T17:30:05.270912Z",
          "iopub.status.idle": "2023-05-09T17:30:06.451217Z",
          "shell.execute_reply": "2023-05-09T17:30:06.449997Z"
        },
        "papermill": {
          "duration": 1.196932,
          "end_time": "2023-05-09T17:30:06.453944",
          "exception": false,
          "start_time": "2023-05-09T17:30:05.257012",
          "status": "completed"
        },
        "tags": [],
        "id": "a84badeb",
        "outputId": "59ee959c-fe8a-4453-c0bd-e1959da5bdb0",
        "colab": {
          "base_uri": "https://localhost:8080/",
          "height": 512
        }
      },
      "outputs": [
        {
          "output_type": "execute_result",
          "data": {
            "text/plain": [
              "Text(0.5, 1.0, 'Target Labels')"
            ]
          },
          "metadata": {},
          "execution_count": 7
        },
        {
          "output_type": "display_data",
          "data": {
            "text/plain": [
              "<Figure size 1500x500 with 1 Axes>"
            ],
            "image/png": "[encoded data removed]"
          },
          "metadata": {}
        }
      ],
      "source": [
        "import seaborn as sns\n",
        "plt.figure(figsize=(15,5))\n",
        "sns.countplot(x='Language',data=data,palette='Set1')\n",
        "plt.title('Target Labels',fontsize=20)"
      ]
    },
    {
      "cell_type": "code",
      "execution_count": null,
      "id": "1cd2410a",
      "metadata": {
        "execution": {
          "iopub.execute_input": "2023-05-09T17:30:06.487162Z",
          "iopub.status.busy": "2023-05-09T17:30:06.486211Z",
          "iopub.status.idle": "2023-05-09T17:30:06.495436Z",
          "shell.execute_reply": "2023-05-09T17:30:06.493474Z"
        },
        "papermill": {
          "duration": 0.029468,
          "end_time": "2023-05-09T17:30:06.498309",
          "exception": false,
          "start_time": "2023-05-09T17:30:06.468841",
          "status": "completed"
        },
        "tags": [],
        "id": "1cd2410a",
        "outputId": "ef34e5a4-35e9-4e90-ad1b-01cc51968473",
        "colab": {
          "base_uri": "https://localhost:8080/"
        }
      },
      "outputs": [
        {
          "output_type": "stream",
          "name": "stdout",
          "text": [
            "!\"#$%&'()*+,-./:;<=>?@[\\]^_`{|}~\n"
          ]
        }
      ],
      "source": [
        "punct=str.punctuation\n",
        "print(punct)"
      ]
    },
    {
      "cell_type": "code",
      "execution_count": null,
      "id": "73c6ca61",
      "metadata": {
        "execution": {
          "iopub.execute_input": "2023-05-09T17:30:06.537313Z",
          "iopub.status.busy": "2023-05-09T17:30:06.536296Z",
          "iopub.status.idle": "2023-05-09T17:30:06.543122Z",
          "shell.execute_reply": "2023-05-09T17:30:06.541791Z"
        },
        "papermill": {
          "duration": 0.031,
          "end_time": "2023-05-09T17:30:06.545957",
          "exception": false,
          "start_time": "2023-05-09T17:30:06.514957",
          "status": "completed"
        },
        "tags": [],
        "id": "73c6ca61"
      },
      "outputs": [],
      "source": [
        "pd.set_option('display.max_colwidth',200)"
      ]
    },
    {
      "cell_type": "code",
      "execution_count": null,
      "id": "60b9be27",
      "metadata": {
        "execution": {
          "iopub.execute_input": "2023-05-09T17:30:06.588791Z",
          "iopub.status.busy": "2023-05-09T17:30:06.588246Z",
          "iopub.status.idle": "2023-05-09T17:30:06.599321Z",
          "shell.execute_reply": "2023-05-09T17:30:06.597854Z"
        },
        "papermill": {
          "duration": 0.034284,
          "end_time": "2023-05-09T17:30:06.601745",
          "exception": false,
          "start_time": "2023-05-09T17:30:06.567461",
          "status": "completed"
        },
        "tags": [],
        "id": "60b9be27",
        "outputId": "53fc3891-b609-4750-bb08-761f2ae0a570",
        "colab": {
          "base_uri": "https://localhost:8080/"
        }
      },
      "outputs": [
        {
          "output_type": "execute_result",
          "data": {
            "text/plain": [
              "3500                                                                                  ), textes et illustrations comprises (la taille du fichier correspondant variant selon la version linguistique utilisée).\n",
              "3501    Le projet Afripédia avait notamment fait usage de ce logiciel : dans les campus universitaires d'Afrique dont la liaison internet ne disposait pas d'un débit suffisant pour permettre de consulter ...\n",
              "3502                                Kiwix est également utilisé par la Human Rights Foundation en Corée du Nord, où la version coréenne de l'encyclopédie est introduite en contrebande par des dissidents[16].\n",
              "3503                       Depuis 2016, des applications mobiles contenant le corpus médical de l'encyclopédie ont également fait leur apparition sous Android, toujours grâce à Kiwix, sous le nom de WikiMed.\n",
              "3504                                           Une autre manière de consulter Wikipédia hors ligne est d'utiliser les dumps (sauvegardes), qui sont disponibles en ligne et téléchargeables par tout un chacun.\n",
              "                                                                                                         ...                                                                                                   \n",
              "3995                                                                                                                                                                         je vous remercie pour vos efforts.\n",
              "3996                                                                                  non merci de toute façon, et une autre phrase que j'utilise parfois dans mon email quand je n'ai pas demandé de personne.\n",
              "3997                                                                                                                                                                        je demande et puis je dis à la fin.\n",
              "3998                                                                                                                                      merci d'avance, ce qui signifie que j'espère vraiment que vous allez.\n",
              "3999                                                                                                                                                                     faites-le en vous remerciant d'avance.\n",
              "Name: Text, Length: 500, dtype: object"
            ]
          },
          "metadata": {},
          "execution_count": 10
        }
      ],
      "source": [
        "data['Text'][3500:4000]"
      ]
    },
    {
      "cell_type": "code",
      "execution_count": null,
      "id": "6c9be429",
      "metadata": {
        "execution": {
          "iopub.execute_input": "2023-05-09T17:30:06.631994Z",
          "iopub.status.busy": "2023-05-09T17:30:06.631180Z",
          "iopub.status.idle": "2023-05-09T17:30:06.841175Z",
          "shell.execute_reply": "2023-05-09T17:30:06.839950Z"
        },
        "papermill": {
          "duration": 0.229482,
          "end_time": "2023-05-09T17:30:06.844004",
          "exception": false,
          "start_time": "2023-05-09T17:30:06.614522",
          "status": "completed"
        },
        "tags": [],
        "id": "6c9be429",
        "outputId": "954bb9ea-d013-4972-bcc1-41977d9548c8",
        "colab": {
          "base_uri": "https://localhost:8080/",
          "height": 545
        }
      },
      "outputs": [
        {
          "output_type": "execute_result",
          "data": {
            "text/plain": [
              "                                                                                                                                                                                                        Text  \\\n",
              "0                                                                                                                       Nature, in the broadest sense, is the natural, physical, material world or universe.   \n",
              "1                                                                                                                    \"Nature\" can refer to the phenomena of the physical world, and also to life in general.   \n",
              "2                                                                                                                                          The study of nature is a large, if not the only, part of science.   \n",
              "3                                                                                Although humans are part of nature, human activity is often understood as a separate category from other natural phenomena.   \n",
              "4         [1] The word nature is borrowed from the Old French nature and is derived from the Latin word natura, or \"essential qualities, innate disposition\", and in ancient times, literally meant \"birth\".   \n",
              "..                                                                                                                                                                                                       ...   \n",
              "495  While generally praising the article on William Clarke Quantrill, he quoted its conclusion as an example of such \"waffling\", which then stated: \"Some historians [...] remember him as an opportunis...   \n",
              "496                                       \"[190] Other critics have made similar charges that, even if Wikipedia articles are factually accurate, they are often written in a poor, almost unreadable style.   \n",
              "497  Frequent Wikipedia critic Andrew Orlowski commented, \"Even when a Wikipedia entry is 100 percent factually correct, and those facts have been carefully chosen, it all too often reads as if it has ...   \n",
              "498                                                      \"[191] A study of Wikipedia articles on cancer was conducted in 2010 by Yaacov Lawrence of the Kimmel Cancer Center at Thomas Jefferson University.   \n",
              "499                                           The study was limited to those articles that could be found in the Physician Data Query and excluded those written at the \"start\" class or \"stub\" class level.   \n",
              "\n",
              "    Language  \\\n",
              "0    English   \n",
              "1    English   \n",
              "2    English   \n",
              "3    English   \n",
              "4    English   \n",
              "..       ...   \n",
              "495  English   \n",
              "496  English   \n",
              "497  English   \n",
              "498  English   \n",
              "499  English   \n",
              "\n",
              "                                                                                                                                                                                                 text_nopunc  \n",
              "0                                                                                                                            nature in the broadest sense is the natural physical material world or universe  \n",
              "1                                                                                                                        nature can refer to the phenomena of the physical world and also to life in general  \n",
              "2                                                                                                                                             the study of nature is a large if not the only part of science  \n",
              "3                                                                                  although humans are part of nature human activity is often understood as a separate category from other natural phenomena  \n",
              "4                    1 the word nature is borrowed from the old french nature and is derived from the latin word natura or essential qualities innate disposition and in ancient times literally meant birth  \n",
              "..                                                                                                                                                                                                       ...  \n",
              "495  while generally praising the article on william clarke quantrill he quoted its conclusion as an example of such waffling which then stated some historians  remember him as an opportunistic bloodth...  \n",
              "496                                              190 other critics have made similar charges that even if wikipedia articles are factually accurate they are often written in a poor almost unreadable style  \n",
              "497  frequent wikipedia critic andrew orlowski commented even when a wikipedia entry is 100 percent factually correct and those facts have been carefully chosen it all too often reads as if it has been...  \n",
              "498                                                          191 a study of wikipedia articles on cancer was conducted in 2010 by yaacov lawrence of the kimmel cancer center at thomas jefferson university  \n",
              "499                                                the study was limited to those articles that could be found in the physician data query and excluded those written at the start class or stub class level  \n",
              "\n",
              "[500 rows x 3 columns]"
            ],
            "text/html": [
              "\n",
              "  <div id=\"df-079428dd-2ed1-4a51-9f19-0c6a1043bea8\" class=\"colab-df-container\">\n",
              "    <div>\n",
              "<style scoped>\n",
              "    .dataframe tbody tr th:only-of-type {\n",
              "        vertical-align: middle;\n",
              "    }\n",
              "\n",
              "    .dataframe tbody tr th {\n",
              "        vertical-align: top;\n",
              "    }\n",
              "\n",
              "    .dataframe thead th {\n",
              "        text-align: right;\n",
              "    }\n",
              "</style>\n",
              "<table border=\"1\" class=\"dataframe\">\n",
              "  <thead>\n",
              "    <tr style=\"text-align: right;\">\n",
              "      <th></th>\n",
              "      <th>Text</th>\n",
              "      <th>Language</th>\n",
              "      <th>text_nopunc</th>\n",
              "    </tr>\n",
              "  </thead>\n",
              "  <tbody>\n",
              "    <tr>\n",
              "      <th>0</th>\n",
              "      <td>Nature, in the broadest sense, is the natural, physical, material world or universe.</td>\n",
              "      <td>English</td>\n",
              "      <td>nature in the broadest sense is the natural physical material world or universe</td>\n",
              "    </tr>\n",
              "    <tr>\n",
              "      <th>1</th>\n",
              "      <td>\"Nature\" can refer to the phenomena of the physical world, and also to life in general.</td>\n",
              "      <td>English</td>\n",
              "      <td>nature can refer to the phenomena of the physical world and also to life in general</td>\n",
              "    </tr>\n",
              "    <tr>\n",
              "      <th>2</th>\n",
              "      <td>The study of nature is a large, if not the only, part of science.</td>\n",
              "      <td>English</td>\n",
              "      <td>the study of nature is a large if not the only part of science</td>\n",
              "    </tr>\n",
              "    <tr>\n",
              "      <th>3</th>\n",
              "      <td>Although humans are part of nature, human activity is often understood as a separate category from other natural phenomena.</td>\n",
              "      <td>English</td>\n",
              "      <td>although humans are part of nature human activity is often understood as a separate category from other natural phenomena</td>\n",
              "    </tr>\n",
              "    <tr>\n",
              "      <th>4</th>\n",
              "      <td>[1] The word nature is borrowed from the Old French nature and is derived from the Latin word natura, or \"essential qualities, innate disposition\", and in ancient times, literally meant \"birth\".</td>\n",
              "      <td>English</td>\n",
              "      <td>1 the word nature is borrowed from the old french nature and is derived from the latin word natura or essential qualities innate disposition and in ancient times literally meant birth</td>\n",
              "    </tr>\n",
              "    <tr>\n",
              "      <th>...</th>\n",
              "      <td>...</td>\n",
              "      <td>...</td>\n",
              "      <td>...</td>\n",
              "    </tr>\n",
              "    <tr>\n",
              "      <th>495</th>\n",
              "      <td>While generally praising the article on William Clarke Quantrill, he quoted its conclusion as an example of such \"waffling\", which then stated: \"Some historians [...] remember him as an opportunis...</td>\n",
              "      <td>English</td>\n",
              "      <td>while generally praising the article on william clarke quantrill he quoted its conclusion as an example of such waffling which then stated some historians  remember him as an opportunistic bloodth...</td>\n",
              "    </tr>\n",
              "    <tr>\n",
              "      <th>496</th>\n",
              "      <td>\"[190] Other critics have made similar charges that, even if Wikipedia articles are factually accurate, they are often written in a poor, almost unreadable style.</td>\n",
              "      <td>English</td>\n",
              "      <td>190 other critics have made similar charges that even if wikipedia articles are factually accurate they are often written in a poor almost unreadable style</td>\n",
              "    </tr>\n",
              "    <tr>\n",
              "      <th>497</th>\n",
              "      <td>Frequent Wikipedia critic Andrew Orlowski commented, \"Even when a Wikipedia entry is 100 percent factually correct, and those facts have been carefully chosen, it all too often reads as if it has ...</td>\n",
              "      <td>English</td>\n",
              "      <td>frequent wikipedia critic andrew orlowski commented even when a wikipedia entry is 100 percent factually correct and those facts have been carefully chosen it all too often reads as if it has been...</td>\n",
              "    </tr>\n",
              "    <tr>\n",
              "      <th>498</th>\n",
              "      <td>\"[191] A study of Wikipedia articles on cancer was conducted in 2010 by Yaacov Lawrence of the Kimmel Cancer Center at Thomas Jefferson University.</td>\n",
              "      <td>English</td>\n",
              "      <td>191 a study of wikipedia articles on cancer was conducted in 2010 by yaacov lawrence of the kimmel cancer center at thomas jefferson university</td>\n",
              "    </tr>\n",
              "    <tr>\n",
              "      <th>499</th>\n",
              "      <td>The study was limited to those articles that could be found in the Physician Data Query and excluded those written at the \"start\" class or \"stub\" class level.</td>\n",
              "      <td>English</td>\n",
              "      <td>the study was limited to those articles that could be found in the physician data query and excluded those written at the start class or stub class level</td>\n",
              "    </tr>\n",
              "  </tbody>\n",
              "</table>\n",
              "<p>500 rows × 3 columns</p>\n",
              "</div>\n",
              "    <div class=\"colab-df-buttons\">\n",
              "\n",
              "  <div class=\"colab-df-container\">\n",
              "    <button class=\"colab-df-convert\" onclick=\"convertToInteractive('df-079428dd-2ed1-4a51-9f19-0c6a1043bea8')\"\n",
              "            title=\"Convert this dataframe to an interactive table.\"\n",
              "            style=\"display:none;\">\n",
              "\n",
              "  <svg xmlns=\"http://www.w3.org/2000/svg\" height=\"24px\" viewBox=\"0 -960 960 960\">\n",
              "    <path d=\"M120-120v-720h720v720H120Zm60-500h600v-160H180v160Zm220 220h160v-160H400v160Zm0 220h160v-160H400v160ZM180-400h160v-160H180v160Zm440 0h160v-160H620v160ZM180-180h160v-160H180v160Zm440 0h160v-160H620v160Z\"/>\n",
              "  </svg>\n",
              "    </button>\n",
              "\n",
              "  <style>\n",
              "    .colab-df-container {\n",
              "      display:flex;\n",
              "      gap: 12px;\n",
              "    }\n",
              "\n",
              "    .colab-df-convert {\n",
              "      background-color: #E8F0FE;\n",
              "      border: none;\n",
              "      border-radius: 50%;\n",
              "      cursor: pointer;\n",
              "      display: none;\n",
              "      fill: #1967D2;\n",
              "      height: 32px;\n",
              "      padding: 0 0 0 0;\n",
              "      width: 32px;\n",
              "    }\n",
              "\n",
              "    .colab-df-convert:hover {\n",
              "      background-color: #E2EBFA;\n",
              "      box-shadow: 0px 1px 2px rgba(60, 64, 67, 0.3), 0px 1px 3px 1px rgba(60, 64, 67, 0.15);\n",
              "      fill: #174EA6;\n",
              "    }\n",
              "\n",
              "    .colab-df-buttons div {\n",
              "      margin-bottom: 4px;\n",
              "    }\n",
              "\n",
              "    [theme=dark] .colab-df-convert {\n",
              "      background-color: #3B4455;\n",
              "      fill: #D2E3FC;\n",
              "    }\n",
              "\n",
              "    [theme=dark] .colab-df-convert:hover {\n",
              "      background-color: #434B5C;\n",
              "      box-shadow: 0px 1px 3px 1px rgba(0, 0, 0, 0.15);\n",
              "      filter: drop-shadow(0px 1px 2px rgba(0, 0, 0, 0.3));\n",
              "      fill: #FFFFFF;\n",
              "    }\n",
              "  </style>\n",
              "\n",
              "    <script>\n",
              "      const buttonEl =\n",
              "        document.querySelector('#df-079428dd-2ed1-4a51-9f19-0c6a1043bea8 button.colab-df-convert');\n",
              "      buttonEl.style.display =\n",
              "        google.colab.kernel.accessAllowed ? 'block' : 'none';\n",
              "\n",
              "      async function convertToInteractive(key) {\n",
              "        const element = document.querySelector('#df-079428dd-2ed1-4a51-9f19-0c6a1043bea8');\n",
              "        const dataTable =\n",
              "          await google.colab.kernel.invokeFunction('convertToInteractive',\n",
              "                                                    [key], {});\n",
              "        if (!dataTable) return;\n",
              "\n",
              "        const docLinkHtml = 'Like what you see? Visit the ' +\n",
              "          '<a target=\"_blank\" href=https://colab.research.google.com/notebooks/data_table.ipynb>data table notebook</a>'\n",
              "          + ' to learn more about interactive tables.';\n",
              "        element.innerHTML = '';\n",
              "        dataTable['output_type'] = 'display_data';\n",
              "        await google.colab.output.renderOutput(dataTable, element);\n",
              "        const docLink = document.createElement('div');\n",
              "        docLink.innerHTML = docLinkHtml;\n",
              "        element.appendChild(docLink);\n",
              "      }\n",
              "    </script>\n",
              "  </div>\n",
              "\n",
              "\n",
              "<div id=\"df-adc75925-bac2-432f-9dd5-2d19d190db9e\">\n",
              "  <button class=\"colab-df-quickchart\" onclick=\"quickchart('df-adc75925-bac2-432f-9dd5-2d19d190db9e')\"\n",
              "            title=\"Suggest charts.\"\n",
              "            style=\"display:none;\">\n",
              "\n",
              "<svg xmlns=\"http://www.w3.org/2000/svg\" height=\"24px\"viewBox=\"0 0 24 24\"\n",
              "     width=\"24px\">\n",
              "    <g>\n",
              "        <path d=\"M19 3H5c-1.1 0-2 .9-2 2v14c0 1.1.9 2 2 2h14c1.1 0 2-.9 2-2V5c0-1.1-.9-2-2-2zM9 17H7v-7h2v7zm4 0h-2V7h2v10zm4 0h-2v-4h2v4z\"/>\n",
              "    </g>\n",
              "</svg>\n",
              "  </button>\n",
              "\n",
              "<style>\n",
              "  .colab-df-quickchart {\n",
              "      --bg-color: #E8F0FE;\n",
              "      --fill-color: #1967D2;\n",
              "      --hover-bg-color: #E2EBFA;\n",
              "      --hover-fill-color: #174EA6;\n",
              "      --disabled-fill-color: #AAA;\n",
              "      --disabled-bg-color: #DDD;\n",
              "  }\n",
              "\n",
              "  [theme=dark] .colab-df-quickchart {\n",
              "      --bg-color: #3B4455;\n",
              "      --fill-color: #D2E3FC;\n",
              "      --hover-bg-color: #434B5C;\n",
              "      --hover-fill-color: #FFFFFF;\n",
              "      --disabled-bg-color: #3B4455;\n",
              "      --disabled-fill-color: #666;\n",
              "  }\n",
              "\n",
              "  .colab-df-quickchart {\n",
              "    background-color: var(--bg-color);\n",
              "    border: none;\n",
              "    border-radius: 50%;\n",
              "    cursor: pointer;\n",
              "    display: none;\n",
              "    fill: var(--fill-color);\n",
              "    height: 32px;\n",
              "    padding: 0;\n",
              "    width: 32px;\n",
              "  }\n",
              "\n",
              "  .colab-df-quickchart:hover {\n",
              "    background-color: var(--hover-bg-color);\n",
              "    box-shadow: 0 1px 2px rgba(60, 64, 67, 0.3), 0 1px 3px 1px rgba(60, 64, 67, 0.15);\n",
              "    fill: var(--button-hover-fill-color);\n",
              "  }\n",
              "\n",
              "  .colab-df-quickchart-complete:disabled,\n",
              "  .colab-df-quickchart-complete:disabled:hover {\n",
              "    background-color: var(--disabled-bg-color);\n",
              "    fill: var(--disabled-fill-color);\n",
              "    box-shadow: none;\n",
              "  }\n",
              "\n",
              "  .colab-df-spinner {\n",
              "    border: 2px solid var(--fill-color);\n",
              "    border-color: transparent;\n",
              "    border-bottom-color: var(--fill-color);\n",
              "    animation:\n",
              "      spin 1s steps(1) infinite;\n",
              "  }\n",
              "\n",
              "  @keyframes spin {\n",
              "    0% {\n",
              "      border-color: transparent;\n",
              "      border-bottom-color: var(--fill-color);\n",
              "      border-left-color: var(--fill-color);\n",
              "    }\n",
              "    20% {\n",
              "      border-color: transparent;\n",
              "      border-left-color: var(--fill-color);\n",
              "      border-top-color: var(--fill-color);\n",
              "    }\n",
              "    30% {\n",
              "      border-color: transparent;\n",
              "      border-left-color: var(--fill-color);\n",
              "      border-top-color: var(--fill-color);\n",
              "      border-right-color: var(--fill-color);\n",
              "    }\n",
              "    40% {\n",
              "      border-color: transparent;\n",
              "      border-right-color: var(--fill-color);\n",
              "      border-top-color: var(--fill-color);\n",
              "    }\n",
              "    60% {\n",
              "      border-color: transparent;\n",
              "      border-right-color: var(--fill-color);\n",
              "    }\n",
              "    80% {\n",
              "      border-color: transparent;\n",
              "      border-right-color: var(--fill-color);\n",
              "      border-bottom-color: var(--fill-color);\n",
              "    }\n",
              "    90% {\n",
              "      border-color: transparent;\n",
              "      border-bottom-color: var(--fill-color);\n",
              "    }\n",
              "  }\n",
              "</style>\n",
              "\n",
              "  <script>\n",
              "    async function quickchart(key) {\n",
              "      const quickchartButtonEl =\n",
              "        document.querySelector('#' + key + ' button');\n",
              "      quickchartButtonEl.disabled = true;  // To prevent multiple clicks.\n",
              "      quickchartButtonEl.classList.add('colab-df-spinner');\n",
              "      try {\n",
              "        const charts = await google.colab.kernel.invokeFunction(\n",
              "            'suggestCharts', [key], {});\n",
              "      } catch (error) {\n",
              "        console.error('Error during call to suggestCharts:', error);\n",
              "      }\n",
              "      quickchartButtonEl.classList.remove('colab-df-spinner');\n",
              "      quickchartButtonEl.classList.add('colab-df-quickchart-complete');\n",
              "    }\n",
              "    (() => {\n",
              "      let quickchartButtonEl =\n",
              "        document.querySelector('#df-adc75925-bac2-432f-9dd5-2d19d190db9e button');\n",
              "      quickchartButtonEl.style.display =\n",
              "        google.colab.kernel.accessAllowed ? 'block' : 'none';\n",
              "    })();\n",
              "  </script>\n",
              "</div>\n",
              "    </div>\n",
              "  </div>\n"
            ]
          },
          "metadata": {},
          "execution_count": 11
        }
      ],
      "source": [
        " #removing punctuation\n",
        "def remove_punct(tokens):\n",
        "    filtered_sentence_stopwords =\"\"\n",
        "    PUNCT = str.punctuation\n",
        "    PUNCT+='\"\"'\n",
        "    PUNCT+='``'\n",
        "    PUNCT+=\"''\"+\"«\"+\"»\"+\"؟\"\n",
        "\n",
        "    for w in tokens:\n",
        "        if w not in PUNCT:\n",
        "            filtered_sentence_stopwords+=w\n",
        "    return filtered_sentence_stopwords\n",
        "df['text_nopunc']=data['Text'].apply(lambda x:remove_punct(x.lower()))\n",
        "df.head(500)"
      ]
    },
    {
      "cell_type": "code",
      "execution_count": null,
      "id": "0c3f7bf0",
      "metadata": {
        "execution": {
          "iopub.execute_input": "2023-05-09T17:30:06.874854Z",
          "iopub.status.busy": "2023-05-09T17:30:06.874312Z",
          "iopub.status.idle": "2023-05-09T17:30:06.883130Z",
          "shell.execute_reply": "2023-05-09T17:30:06.882151Z"
        },
        "papermill": {
          "duration": 0.028362,
          "end_time": "2023-05-09T17:30:06.887094",
          "exception": false,
          "start_time": "2023-05-09T17:30:06.858732",
          "status": "completed"
        },
        "tags": [],
        "id": "0c3f7bf0",
        "outputId": "026748d6-3b3c-44f4-9975-0bd060bdcb9b",
        "colab": {
          "base_uri": "https://localhost:8080/"
        }
      },
      "outputs": [
        {
          "output_type": "execute_result",
          "data": {
            "text/plain": [
              "1424                                                                                                     അനാവശ്യ മാറ്റങ്ങൾ വളരെ പെട്ടെന്നു തന്നെ സാധാരണയായി ഒഴിവാക്കാറുണ്ട്\n",
              "1425                                                                         അതുപോലെ തുടർച്ചയായി ശല്യപ്പെടുത്തുന്ന നിയമവിരുദ്ധരെ മാറ്റങ്ങൾ വരുത്തുന്നതിൽ നിന്നും തടയാറുണ്ട്\n",
              "1426                                                                                                                       നിലവിൽ301 ഭാഷകളിൽ വിക്കിപീഡിയയുടെ പതിപ്പുകളുണ്ട്\n",
              "1427                                                             മൃതമായി കൊണ്ടിരുന്ന പല ഭാഷകളും ലിപികളും വിക്കിപീഡിയയുടെ പ്രവർത്തനങ്ങളിലൂടെ പുനർജീവിച്ചു കൊണ്ടിരിക്കുന്നു13\n",
              "1428                                                                 നാല്പത്തഞ്ച് ലക്ഷത്തിനടുത്ത് ലേഖനങ്ങളുള്ള വിക്കിപീഡിയയുടെ ഇംഗ്ലീഷ് പതിപ്പാണ് ഈ സംരംഭത്തിന്റെ പതാകവാഹക‍\n",
              "                                                                                       ...                                                                                 \n",
              "9445                                                                                                                                                      ارجو قبول اعتذارى\n",
              "9446                                                                                                                                                       لا تقلق بشأن ذلك\n",
              "9447                                                                                                                                                          لا داعى للقلق\n",
              "9448                                                                حسنًا ، إذا كنت تريد المزيد من الدروس حول الجمل والعبارات الشائعة ، فأخبرني بذلك في قسم التعليقات أدناه\n",
              "9449    أيضًا إذا أعجبك هذا الفيديو ، فامنحه إعجابًا بالضغط على زر الإعجاب وتذكر الاشتراك في هذه القناة من خلال النقر على زر الاشتراك للحصول على أحدث دروسي هنا على youtube\n",
              "Name: text_nopunc, Length: 8026, dtype: object"
            ]
          },
          "metadata": {},
          "execution_count": 12
        }
      ],
      "source": [
        "df['text_nopunc'][1424:9450]"
      ]
    },
    {
      "cell_type": "code",
      "execution_count": null,
      "id": "47a74f65",
      "metadata": {
        "execution": {
          "iopub.execute_input": "2023-05-09T17:30:06.920218Z",
          "iopub.status.busy": "2023-05-09T17:30:06.918666Z",
          "iopub.status.idle": "2023-05-09T17:30:08.719877Z",
          "shell.execute_reply": "2023-05-09T17:30:08.718530Z"
        },
        "papermill": {
          "duration": 1.821979,
          "end_time": "2023-05-09T17:30:08.722704",
          "exception": false,
          "start_time": "2023-05-09T17:30:06.900725",
          "status": "completed"
        },
        "tags": [],
        "id": "47a74f65",
        "outputId": "bf78ebd9-439a-4b11-aecd-71bddf423658",
        "colab": {
          "base_uri": "https://localhost:8080/",
          "height": 293
        }
      },
      "outputs": [
        {
          "output_type": "execute_result",
          "data": {
            "text/plain": [
              "                                                                                                                                                                                                 Text  \\\n",
              "0                                                                                                                Nature, in the broadest sense, is the natural, physical, material world or universe.   \n",
              "1                                                                                                             \"Nature\" can refer to the phenomena of the physical world, and also to life in general.   \n",
              "2                                                                                                                                   The study of nature is a large, if not the only, part of science.   \n",
              "3                                                                         Although humans are part of nature, human activity is often understood as a separate category from other natural phenomena.   \n",
              "4  [1] The word nature is borrowed from the Old French nature and is derived from the Latin word natura, or \"essential qualities, innate disposition\", and in ancient times, literally meant \"birth\".   \n",
              "\n",
              "  Language  \\\n",
              "0  English   \n",
              "1  English   \n",
              "2  English   \n",
              "3  English   \n",
              "4  English   \n",
              "\n",
              "                                                                                                                                                                               text_nopunc  \\\n",
              "0                                                                                                          nature in the broadest sense is the natural physical material world or universe   \n",
              "1                                                                                                      nature can refer to the phenomena of the physical world and also to life in general   \n",
              "2                                                                                                                           the study of nature is a large if not the only part of science   \n",
              "3                                                                although humans are part of nature human activity is often understood as a separate category from other natural phenomena   \n",
              "4  1 the word nature is borrowed from the old french nature and is derived from the latin word natura or essential qualities innate disposition and in ancient times literally meant birth   \n",
              "\n",
              "                                                                                                                                                                                               text_tokniz  \n",
              "0                                                                                                            [nature, in, the, broadest, sense, is, the, natural, physical, material, world, or, universe]  \n",
              "1                                                                                                     [nature, can, refer, to, the, phenomena, of, the, physical, world, and, also, to, life, in, general]  \n",
              "2                                                                                                                            [the, study, of, nature, is, a, large, if, not, the, only, part, of, science]  \n",
              "3                                                            [although, humans, are, part, of, nature, human, activity, is, often, understood, as, a, separate, category, from, other, natural, phenomena]  \n",
              "4  [1, the, word, nature, is, borrowed, from, the, old, french, nature, and, is, derived, from, the, latin, word, natura, or, essential, qualities, innate, disposition, and, in, ancient, times, liter...  "
            ],
            "text/html": [
              "\n",
              "  <div id=\"df-bbd9c79a-ec6c-46a6-8c61-84016abcab91\" class=\"colab-df-container\">\n",
              "    <div>\n",
              "<style scoped>\n",
              "    .dataframe tbody tr th:only-of-type {\n",
              "        vertical-align: middle;\n",
              "    }\n",
              "\n",
              "    .dataframe tbody tr th {\n",
              "        vertical-align: top;\n",
              "    }\n",
              "\n",
              "    .dataframe thead th {\n",
              "        text-align: right;\n",
              "    }\n",
              "</style>\n",
              "<table border=\"1\" class=\"dataframe\">\n",
              "  <thead>\n",
              "    <tr style=\"text-align: right;\">\n",
              "      <th></th>\n",
              "      <th>Text</th>\n",
              "      <th>Language</th>\n",
              "      <th>text_nopunc</th>\n",
              "      <th>text_tokniz</th>\n",
              "    </tr>\n",
              "  </thead>\n",
              "  <tbody>\n",
              "    <tr>\n",
              "      <th>0</th>\n",
              "      <td>Nature, in the broadest sense, is the natural, physical, material world or universe.</td>\n",
              "      <td>English</td>\n",
              "      <td>nature in the broadest sense is the natural physical material world or universe</td>\n",
              "      <td>[nature, in, the, broadest, sense, is, the, natural, physical, material, world, or, universe]</td>\n",
              "    </tr>\n",
              "    <tr>\n",
              "      <th>1</th>\n",
              "      <td>\"Nature\" can refer to the phenomena of the physical world, and also to life in general.</td>\n",
              "      <td>English</td>\n",
              "      <td>nature can refer to the phenomena of the physical world and also to life in general</td>\n",
              "      <td>[nature, can, refer, to, the, phenomena, of, the, physical, world, and, also, to, life, in, general]</td>\n",
              "    </tr>\n",
              "    <tr>\n",
              "      <th>2</th>\n",
              "      <td>The study of nature is a large, if not the only, part of science.</td>\n",
              "      <td>English</td>\n",
              "      <td>the study of nature is a large if not the only part of science</td>\n",
              "      <td>[the, study, of, nature, is, a, large, if, not, the, only, part, of, science]</td>\n",
              "    </tr>\n",
              "    <tr>\n",
              "      <th>3</th>\n",
              "      <td>Although humans are part of nature, human activity is often understood as a separate category from other natural phenomena.</td>\n",
              "      <td>English</td>\n",
              "      <td>although humans are part of nature human activity is often understood as a separate category from other natural phenomena</td>\n",
              "      <td>[although, humans, are, part, of, nature, human, activity, is, often, understood, as, a, separate, category, from, other, natural, phenomena]</td>\n",
              "    </tr>\n",
              "    <tr>\n",
              "      <th>4</th>\n",
              "      <td>[1] The word nature is borrowed from the Old French nature and is derived from the Latin word natura, or \"essential qualities, innate disposition\", and in ancient times, literally meant \"birth\".</td>\n",
              "      <td>English</td>\n",
              "      <td>1 the word nature is borrowed from the old french nature and is derived from the latin word natura or essential qualities innate disposition and in ancient times literally meant birth</td>\n",
              "      <td>[1, the, word, nature, is, borrowed, from, the, old, french, nature, and, is, derived, from, the, latin, word, natura, or, essential, qualities, innate, disposition, and, in, ancient, times, liter...</td>\n",
              "    </tr>\n",
              "  </tbody>\n",
              "</table>\n",
              "</div>\n",
              "    <div class=\"colab-df-buttons\">\n",
              "\n",
              "  <div class=\"colab-df-container\">\n",
              "    <button class=\"colab-df-convert\" onclick=\"convertToInteractive('df-bbd9c79a-ec6c-46a6-8c61-84016abcab91')\"\n",
              "            title=\"Convert this dataframe to an interactive table.\"\n",
              "            style=\"display:none;\">\n",
              "\n",
              "  <svg xmlns=\"http://www.w3.org/2000/svg\" height=\"24px\" viewBox=\"0 -960 960 960\">\n",
              "    <path d=\"M120-120v-720h720v720H120Zm60-500h600v-160H180v160Zm220 220h160v-160H400v160Zm0 220h160v-160H400v160ZM180-400h160v-160H180v160Zm440 0h160v-160H620v160ZM180-180h160v-160H180v160Zm440 0h160v-160H620v160Z\"/>\n",
              "  </svg>\n",
              "    </button>\n",
              "\n",
              "  <style>\n",
              "    .colab-df-container {\n",
              "      display:flex;\n",
              "      gap: 12px;\n",
              "    }\n",
              "\n",
              "    .colab-df-convert {\n",
              "      background-color: #E8F0FE;\n",
              "      border: none;\n",
              "      border-radius: 50%;\n",
              "      cursor: pointer;\n",
              "      display: none;\n",
              "      fill: #1967D2;\n",
              "      height: 32px;\n",
              "      padding: 0 0 0 0;\n",
              "      width: 32px;\n",
              "    }\n",
              "\n",
              "    .colab-df-convert:hover {\n",
              "      background-color: #E2EBFA;\n",
              "      box-shadow: 0px 1px 2px rgba(60, 64, 67, 0.3), 0px 1px 3px 1px rgba(60, 64, 67, 0.15);\n",
              "      fill: #174EA6;\n",
              "    }\n",
              "\n",
              "    .colab-df-buttons div {\n",
              "      margin-bottom: 4px;\n",
              "    }\n",
              "\n",
              "    [theme=dark] .colab-df-convert {\n",
              "      background-color: #3B4455;\n",
              "      fill: #D2E3FC;\n",
              "    }\n",
              "\n",
              "    [theme=dark] .colab-df-convert:hover {\n",
              "      background-color: #434B5C;\n",
              "      box-shadow: 0px 1px 3px 1px rgba(0, 0, 0, 0.15);\n",
              "      filter: drop-shadow(0px 1px 2px rgba(0, 0, 0, 0.3));\n",
              "      fill: #FFFFFF;\n",
              "    }\n",
              "  </style>\n",
              "\n",
              "    <script>\n",
              "      const buttonEl =\n",
              "        document.querySelector('#df-bbd9c79a-ec6c-46a6-8c61-84016abcab91 button.colab-df-convert');\n",
              "      buttonEl.style.display =\n",
              "        google.colab.kernel.accessAllowed ? 'block' : 'none';\n",
              "\n",
              "      async function convertToInteractive(key) {\n",
              "        const element = document.querySelector('#df-bbd9c79a-ec6c-46a6-8c61-84016abcab91');\n",
              "        const dataTable =\n",
              "          await google.colab.kernel.invokeFunction('convertToInteractive',\n",
              "                                                    [key], {});\n",
              "        if (!dataTable) return;\n",
              "\n",
              "        const docLinkHtml = 'Like what you see? Visit the ' +\n",
              "          '<a target=\"_blank\" href=https://colab.research.google.com/notebooks/data_table.ipynb>data table notebook</a>'\n",
              "          + ' to learn more about interactive tables.';\n",
              "        element.innerHTML = '';\n",
              "        dataTable['output_type'] = 'display_data';\n",
              "        await google.colab.output.renderOutput(dataTable, element);\n",
              "        const docLink = document.createElement('div');\n",
              "        docLink.innerHTML = docLinkHtml;\n",
              "        element.appendChild(docLink);\n",
              "      }\n",
              "    </script>\n",
              "  </div>\n",
              "\n",
              "\n",
              "<div id=\"df-5ac2b6fd-3f25-4ac7-b6c2-457ca4eaba71\">\n",
              "  <button class=\"colab-df-quickchart\" onclick=\"quickchart('df-5ac2b6fd-3f25-4ac7-b6c2-457ca4eaba71')\"\n",
              "            title=\"Suggest charts.\"\n",
              "            style=\"display:none;\">\n",
              "\n",
              "<svg xmlns=\"http://www.w3.org/2000/svg\" height=\"24px\"viewBox=\"0 0 24 24\"\n",
              "     width=\"24px\">\n",
              "    <g>\n",
              "        <path d=\"M19 3H5c-1.1 0-2 .9-2 2v14c0 1.1.9 2 2 2h14c1.1 0 2-.9 2-2V5c0-1.1-.9-2-2-2zM9 17H7v-7h2v7zm4 0h-2V7h2v10zm4 0h-2v-4h2v4z\"/>\n",
              "    </g>\n",
              "</svg>\n",
              "  </button>\n",
              "\n",
              "<style>\n",
              "  .colab-df-quickchart {\n",
              "      --bg-color: #E8F0FE;\n",
              "      --fill-color: #1967D2;\n",
              "      --hover-bg-color: #E2EBFA;\n",
              "      --hover-fill-color: #174EA6;\n",
              "      --disabled-fill-color: #AAA;\n",
              "      --disabled-bg-color: #DDD;\n",
              "  }\n",
              "\n",
              "  [theme=dark] .colab-df-quickchart {\n",
              "      --bg-color: #3B4455;\n",
              "      --fill-color: #D2E3FC;\n",
              "      --hover-bg-color: #434B5C;\n",
              "      --hover-fill-color: #FFFFFF;\n",
              "      --disabled-bg-color: #3B4455;\n",
              "      --disabled-fill-color: #666;\n",
              "  }\n",
              "\n",
              "  .colab-df-quickchart {\n",
              "    background-color: var(--bg-color);\n",
              "    border: none;\n",
              "    border-radius: 50%;\n",
              "    cursor: pointer;\n",
              "    display: none;\n",
              "    fill: var(--fill-color);\n",
              "    height: 32px;\n",
              "    padding: 0;\n",
              "    width: 32px;\n",
              "  }\n",
              "\n",
              "  .colab-df-quickchart:hover {\n",
              "    background-color: var(--hover-bg-color);\n",
              "    box-shadow: 0 1px 2px rgba(60, 64, 67, 0.3), 0 1px 3px 1px rgba(60, 64, 67, 0.15);\n",
              "    fill: var(--button-hover-fill-color);\n",
              "  }\n",
              "\n",
              "  .colab-df-quickchart-complete:disabled,\n",
              "  .colab-df-quickchart-complete:disabled:hover {\n",
              "    background-color: var(--disabled-bg-color);\n",
              "    fill: var(--disabled-fill-color);\n",
              "    box-shadow: none;\n",
              "  }\n",
              "\n",
              "  .colab-df-spinner {\n",
              "    border: 2px solid var(--fill-color);\n",
              "    border-color: transparent;\n",
              "    border-bottom-color: var(--fill-color);\n",
              "    animation:\n",
              "      spin 1s steps(1) infinite;\n",
              "  }\n",
              "\n",
              "  @keyframes spin {\n",
              "    0% {\n",
              "      border-color: transparent;\n",
              "      border-bottom-color: var(--fill-color);\n",
              "      border-left-color: var(--fill-color);\n",
              "    }\n",
              "    20% {\n",
              "      border-color: transparent;\n",
              "      border-left-color: var(--fill-color);\n",
              "      border-top-color: var(--fill-color);\n",
              "    }\n",
              "    30% {\n",
              "      border-color: transparent;\n",
              "      border-left-color: var(--fill-color);\n",
              "      border-top-color: var(--fill-color);\n",
              "      border-right-color: var(--fill-color);\n",
              "    }\n",
              "    40% {\n",
              "      border-color: transparent;\n",
              "      border-right-color: var(--fill-color);\n",
              "      border-top-color: var(--fill-color);\n",
              "    }\n",
              "    60% {\n",
              "      border-color: transparent;\n",
              "      border-right-color: var(--fill-color);\n",
              "    }\n",
              "    80% {\n",
              "      border-color: transparent;\n",
              "      border-right-color: var(--fill-color);\n",
              "      border-bottom-color: var(--fill-color);\n",
              "    }\n",
              "    90% {\n",
              "      border-color: transparent;\n",
              "      border-bottom-color: var(--fill-color);\n",
              "    }\n",
              "  }\n",
              "</style>\n",
              "\n",
              "  <script>\n",
              "    async function quickchart(key) {\n",
              "      const quickchartButtonEl =\n",
              "        document.querySelector('#' + key + ' button');\n",
              "      quickchartButtonEl.disabled = true;  // To prevent multiple clicks.\n",
              "      quickchartButtonEl.classList.add('colab-df-spinner');\n",
              "      try {\n",
              "        const charts = await google.colab.kernel.invokeFunction(\n",
              "            'suggestCharts', [key], {});\n",
              "      } catch (error) {\n",
              "        console.error('Error during call to suggestCharts:', error);\n",
              "      }\n",
              "      quickchartButtonEl.classList.remove('colab-df-spinner');\n",
              "      quickchartButtonEl.classList.add('colab-df-quickchart-complete');\n",
              "    }\n",
              "    (() => {\n",
              "      let quickchartButtonEl =\n",
              "        document.querySelector('#df-5ac2b6fd-3f25-4ac7-b6c2-457ca4eaba71 button');\n",
              "      quickchartButtonEl.style.display =\n",
              "        google.colab.kernel.accessAllowed ? 'block' : 'none';\n",
              "    })();\n",
              "  </script>\n",
              "</div>\n",
              "    </div>\n",
              "  </div>\n"
            ]
          },
          "metadata": {},
          "execution_count": 13
        }
      ],
      "source": [
        "def tokenize(text):\n",
        "    tokens=word_tokenize(text)\n",
        "    return tokens\n",
        "df['text_tokniz']=df['text_nopunc'].apply(lambda x : tokenize (x))\n",
        "df.head()"
      ]
    },
    {
      "cell_type": "code",
      "execution_count": null,
      "id": "a27ef32d",
      "metadata": {
        "execution": {
          "iopub.execute_input": "2023-05-09T17:30:08.755150Z",
          "iopub.status.busy": "2023-05-09T17:30:08.754674Z",
          "iopub.status.idle": "2023-05-09T17:30:08.784342Z",
          "shell.execute_reply": "2023-05-09T17:30:08.783045Z"
        },
        "papermill": {
          "duration": 0.049162,
          "end_time": "2023-05-09T17:30:08.787531",
          "exception": false,
          "start_time": "2023-05-09T17:30:08.738369",
          "status": "completed"
        },
        "tags": [],
        "id": "a27ef32d"
      },
      "outputs": [],
      "source": [
        "stop_words_en = nltk.corpus.stopwords.words('english')\n",
        "stop_words_ge = stopwords.words('german')\n",
        "stop_words_fr = stopwords.words('french')\n",
        "stop_words_it = stopwords.words('italian')\n",
        "stop_words_po = stopwords.words('portuguese')\n",
        "stop_words_ru = stopwords.words('russian')\n",
        "stop_words_sp = stopwords.words('spanish')\n",
        "stop_words_sw = stopwords.words('swedish')\n",
        "stop_words_da = stopwords.words('danish')\n",
        "stop_words_du = stopwords.words('dutch')\n",
        "stop_words_ar = stopwords.words('arabic')\n",
        "stop_words_tu = stopwords.words('turkish')\n",
        "stop_words_gr = stopwords.words('greek')"
      ]
    },
    {
      "cell_type": "code",
      "execution_count": null,
      "id": "a54a6c23",
      "metadata": {
        "execution": {
          "iopub.execute_input": "2023-05-09T17:30:08.819236Z",
          "iopub.status.busy": "2023-05-09T17:30:08.818433Z",
          "iopub.status.idle": "2023-05-09T17:30:08.824535Z",
          "shell.execute_reply": "2023-05-09T17:30:08.822849Z"
        },
        "papermill": {
          "duration": 0.024404,
          "end_time": "2023-05-09T17:30:08.827098",
          "exception": false,
          "start_time": "2023-05-09T17:30:08.802694",
          "status": "completed"
        },
        "tags": [],
        "id": "a54a6c23"
      },
      "outputs": [],
      "source": [
        "def remove_stopwords(tok_l,stopwords):\n",
        "    filtered_sentence =[]\n",
        "    for w in tok_l:\n",
        "        if w not in stopwords:\n",
        "            filtered_sentence.append(w)\n",
        "    return filtered_sentence"
      ]
    },
    {
      "cell_type": "code",
      "execution_count": null,
      "id": "d344649d",
      "metadata": {
        "execution": {
          "iopub.execute_input": "2023-05-09T17:30:08.862928Z",
          "iopub.status.busy": "2023-05-09T17:30:08.862415Z",
          "iopub.status.idle": "2023-05-09T17:30:09.349765Z",
          "shell.execute_reply": "2023-05-09T17:30:09.348764Z"
        },
        "papermill": {
          "duration": 0.511143,
          "end_time": "2023-05-09T17:30:09.353020",
          "exception": false,
          "start_time": "2023-05-09T17:30:08.841877",
          "status": "completed"
        },
        "tags": [],
        "id": "d344649d"
      },
      "outputs": [],
      "source": [
        "df['filtered_sentence_stopwords']=df['text_tokniz'].apply(lambda x : remove_stopwords(x,stop_words_en))"
      ]
    },
    {
      "cell_type": "code",
      "execution_count": null,
      "id": "748e2b00",
      "metadata": {
        "execution": {
          "iopub.execute_input": "2023-05-09T17:30:09.384804Z",
          "iopub.status.busy": "2023-05-09T17:30:09.383787Z",
          "iopub.status.idle": "2023-05-09T17:30:09.970145Z",
          "shell.execute_reply": "2023-05-09T17:30:09.968337Z"
        },
        "papermill": {
          "duration": 0.605866,
          "end_time": "2023-05-09T17:30:09.973797",
          "exception": false,
          "start_time": "2023-05-09T17:30:09.367931",
          "status": "completed"
        },
        "tags": [],
        "id": "748e2b00"
      },
      "outputs": [],
      "source": [
        "df['filtered_sentence_stopwords']=df['filtered_sentence_stopwords'].apply(lambda x : remove_stopwords(x,stop_words_ge))"
      ]
    },
    {
      "cell_type": "code",
      "execution_count": null,
      "id": "3b30251a",
      "metadata": {
        "execution": {
          "iopub.execute_input": "2023-05-09T17:30:10.007726Z",
          "iopub.status.busy": "2023-05-09T17:30:10.007281Z",
          "iopub.status.idle": "2023-05-09T17:30:10.381916Z",
          "shell.execute_reply": "2023-05-09T17:30:10.380564Z"
        },
        "papermill": {
          "duration": 0.394559,
          "end_time": "2023-05-09T17:30:10.385374",
          "exception": false,
          "start_time": "2023-05-09T17:30:09.990815",
          "status": "completed"
        },
        "tags": [],
        "id": "3b30251a"
      },
      "outputs": [],
      "source": [
        "df['filtered_sentence_stopwords']=df['filtered_sentence_stopwords'].apply(lambda x : remove_stopwords(x,stop_words_fr))"
      ]
    },
    {
      "cell_type": "code",
      "execution_count": null,
      "id": "f7d6d858",
      "metadata": {
        "execution": {
          "iopub.execute_input": "2023-05-09T17:30:10.417311Z",
          "iopub.status.busy": "2023-05-09T17:30:10.416576Z",
          "iopub.status.idle": "2023-05-09T17:30:10.764927Z",
          "shell.execute_reply": "2023-05-09T17:30:10.763529Z"
        },
        "papermill": {
          "duration": 0.367771,
          "end_time": "2023-05-09T17:30:10.767852",
          "exception": false,
          "start_time": "2023-05-09T17:30:10.400081",
          "status": "completed"
        },
        "tags": [],
        "id": "f7d6d858"
      },
      "outputs": [],
      "source": [
        "df['filtered_sentence_stopwords']=df['filtered_sentence_stopwords'].apply(lambda x : remove_stopwords(x,stop_words_ru))"
      ]
    },
    {
      "cell_type": "code",
      "execution_count": null,
      "id": "6c7e7e06",
      "metadata": {
        "execution": {
          "iopub.execute_input": "2023-05-09T17:30:10.798458Z",
          "iopub.status.busy": "2023-05-09T17:30:10.798072Z",
          "iopub.status.idle": "2023-05-09T17:30:11.469122Z",
          "shell.execute_reply": "2023-05-09T17:30:11.467180Z"
        },
        "papermill": {
          "duration": 0.689725,
          "end_time": "2023-05-09T17:30:11.472466",
          "exception": false,
          "start_time": "2023-05-09T17:30:10.782741",
          "status": "completed"
        },
        "tags": [],
        "id": "6c7e7e06"
      },
      "outputs": [],
      "source": [
        "df['filtered_sentence_stopwords']=df['filtered_sentence_stopwords'].apply(lambda x : remove_stopwords(x,stop_words_sp))"
      ]
    },
    {
      "cell_type": "code",
      "execution_count": null,
      "id": "71f7de16",
      "metadata": {
        "execution": {
          "iopub.execute_input": "2023-05-09T17:30:11.502660Z",
          "iopub.status.busy": "2023-05-09T17:30:11.502220Z",
          "iopub.status.idle": "2023-05-09T17:30:11.755566Z",
          "shell.execute_reply": "2023-05-09T17:30:11.754271Z"
        },
        "papermill": {
          "duration": 0.272159,
          "end_time": "2023-05-09T17:30:11.758497",
          "exception": false,
          "start_time": "2023-05-09T17:30:11.486338",
          "status": "completed"
        },
        "tags": [],
        "id": "71f7de16"
      },
      "outputs": [],
      "source": [
        "df['filtered_sentence_stopwords']=df['filtered_sentence_stopwords'].apply(lambda x : remove_stopwords(x,stop_words_sw))"
      ]
    },
    {
      "cell_type": "code",
      "execution_count": null,
      "id": "ed7be3e0",
      "metadata": {
        "execution": {
          "iopub.execute_input": "2023-05-09T17:30:11.791289Z",
          "iopub.status.busy": "2023-05-09T17:30:11.790724Z",
          "iopub.status.idle": "2023-05-09T17:30:12.022484Z",
          "shell.execute_reply": "2023-05-09T17:30:12.020569Z"
        },
        "papermill": {
          "duration": 0.251202,
          "end_time": "2023-05-09T17:30:12.025557",
          "exception": false,
          "start_time": "2023-05-09T17:30:11.774355",
          "status": "completed"
        },
        "tags": [],
        "id": "ed7be3e0"
      },
      "outputs": [],
      "source": [
        "df['filtered_sentence_stopwords']=df['filtered_sentence_stopwords'].apply(lambda x : remove_stopwords(x,stop_words_da))"
      ]
    },
    {
      "cell_type": "code",
      "execution_count": null,
      "id": "29e2533e",
      "metadata": {
        "execution": {
          "iopub.execute_input": "2023-05-09T17:30:12.060563Z",
          "iopub.status.busy": "2023-05-09T17:30:12.060118Z",
          "iopub.status.idle": "2023-05-09T17:30:12.291659Z",
          "shell.execute_reply": "2023-05-09T17:30:12.290363Z"
        },
        "papermill": {
          "duration": 0.252555,
          "end_time": "2023-05-09T17:30:12.294981",
          "exception": false,
          "start_time": "2023-05-09T17:30:12.042426",
          "status": "completed"
        },
        "tags": [],
        "id": "29e2533e"
      },
      "outputs": [],
      "source": [
        "df['filtered_sentence_stopwords']=df['filtered_sentence_stopwords'].apply(lambda x : remove_stopwords(x,stop_words_du))"
      ]
    },
    {
      "cell_type": "code",
      "execution_count": null,
      "id": "13bdf230",
      "metadata": {
        "execution": {
          "iopub.execute_input": "2023-05-09T17:30:12.330378Z",
          "iopub.status.busy": "2023-05-09T17:30:12.329874Z",
          "iopub.status.idle": "2023-05-09T17:30:13.857791Z",
          "shell.execute_reply": "2023-05-09T17:30:13.855540Z"
        },
        "papermill": {
          "duration": 1.549366,
          "end_time": "2023-05-09T17:30:13.861341",
          "exception": false,
          "start_time": "2023-05-09T17:30:12.311975",
          "status": "completed"
        },
        "tags": [],
        "id": "13bdf230"
      },
      "outputs": [],
      "source": [
        "df['filtered_sentence_stopwords']=df['filtered_sentence_stopwords'].apply(lambda x : remove_stopwords(x,stop_words_ar))"
      ]
    },
    {
      "cell_type": "code",
      "execution_count": null,
      "id": "6f489d8e",
      "metadata": {
        "execution": {
          "iopub.execute_input": "2023-05-09T17:30:13.895919Z",
          "iopub.status.busy": "2023-05-09T17:30:13.895369Z",
          "iopub.status.idle": "2023-05-09T17:30:14.025260Z",
          "shell.execute_reply": "2023-05-09T17:30:14.023492Z"
        },
        "papermill": {
          "duration": 0.151161,
          "end_time": "2023-05-09T17:30:14.029159",
          "exception": false,
          "start_time": "2023-05-09T17:30:13.877998",
          "status": "completed"
        },
        "tags": [],
        "id": "6f489d8e"
      },
      "outputs": [],
      "source": [
        "df['filtered_sentence_stopwords']=df['filtered_sentence_stopwords'].apply(lambda x : remove_stopwords(x,stop_words_tu))"
      ]
    },
    {
      "cell_type": "code",
      "execution_count": null,
      "id": "5d300315",
      "metadata": {
        "execution": {
          "iopub.execute_input": "2023-05-09T17:30:14.066817Z",
          "iopub.status.busy": "2023-05-09T17:30:14.065446Z",
          "iopub.status.idle": "2023-05-09T17:30:14.594429Z",
          "shell.execute_reply": "2023-05-09T17:30:14.593241Z"
        },
        "papermill": {
          "duration": 0.550832,
          "end_time": "2023-05-09T17:30:14.597192",
          "exception": false,
          "start_time": "2023-05-09T17:30:14.046360",
          "status": "completed"
        },
        "tags": [],
        "id": "5d300315"
      },
      "outputs": [],
      "source": [
        "df['filtered_sentence_stopwords']=df['filtered_sentence_stopwords'].apply(lambda x : remove_stopwords(x,stop_words_gr))"
      ]
    },
    {
      "cell_type": "code",
      "execution_count": null,
      "id": "c89bcd0a",
      "metadata": {
        "execution": {
          "iopub.execute_input": "2023-05-09T17:30:14.630479Z",
          "iopub.status.busy": "2023-05-09T17:30:14.630024Z",
          "iopub.status.idle": "2023-05-09T17:30:15.174678Z",
          "shell.execute_reply": "2023-05-09T17:30:15.173244Z"
        },
        "papermill": {
          "duration": 0.5651,
          "end_time": "2023-05-09T17:30:15.177633",
          "exception": false,
          "start_time": "2023-05-09T17:30:14.612533",
          "status": "completed"
        },
        "tags": [],
        "id": "c89bcd0a"
      },
      "outputs": [],
      "source": [
        "df['filtered_sentence_stopwords']=df['filtered_sentence_stopwords'].apply(lambda x : remove_stopwords(x,stop_words_it))"
      ]
    },
    {
      "cell_type": "code",
      "execution_count": null,
      "id": "ea6671bf",
      "metadata": {
        "execution": {
          "iopub.execute_input": "2023-05-09T17:30:15.210820Z",
          "iopub.status.busy": "2023-05-09T17:30:15.210442Z",
          "iopub.status.idle": "2023-05-09T17:30:15.909967Z",
          "shell.execute_reply": "2023-05-09T17:30:15.908719Z"
        },
        "papermill": {
          "duration": 0.718806,
          "end_time": "2023-05-09T17:30:15.913039",
          "exception": false,
          "start_time": "2023-05-09T17:30:15.194233",
          "status": "completed"
        },
        "tags": [],
        "id": "ea6671bf"
      },
      "outputs": [],
      "source": [
        "df['filtered_sentence_stopwords']=df['filtered_sentence_stopwords'].apply(lambda x : remove_stopwords(x,stop_words_po))"
      ]
    },
    {
      "cell_type": "code",
      "execution_count": null,
      "id": "3f88b98f",
      "metadata": {
        "execution": {
          "iopub.execute_input": "2023-05-09T17:30:15.946651Z",
          "iopub.status.busy": "2023-05-09T17:30:15.945679Z",
          "iopub.status.idle": "2023-05-09T17:30:15.973101Z",
          "shell.execute_reply": "2023-05-09T17:30:15.971654Z"
        },
        "papermill": {
          "duration": 0.046059,
          "end_time": "2023-05-09T17:30:15.975802",
          "exception": false,
          "start_time": "2023-05-09T17:30:15.929743",
          "status": "completed"
        },
        "tags": [],
        "id": "3f88b98f",
        "outputId": "8b85853b-2b5c-414f-90fa-443d4f5eda6d",
        "colab": {
          "base_uri": "https://localhost:8080/",
          "height": 702
        }
      },
      "outputs": [
        {
          "output_type": "execute_result",
          "data": {
            "text/plain": [
              "                                                                                                                                                                                                    Text  \\\n",
              "0                                                                                                                   Nature, in the broadest sense, is the natural, physical, material world or universe.   \n",
              "1                                                                                                                \"Nature\" can refer to the phenomena of the physical world, and also to life in general.   \n",
              "2                                                                                                                                      The study of nature is a large, if not the only, part of science.   \n",
              "3                                                                            Although humans are part of nature, human activity is often understood as a separate category from other natural phenomena.   \n",
              "4     [1] The word nature is borrowed from the Old French nature and is derived from the Latin word natura, or \"essential qualities, innate disposition\", and in ancient times, literally meant \"birth\".   \n",
              "...                                                                                                                                                                                                  ...   \n",
              "3275                                                                                                                      La première grande philosophie de la nature se trouve dans l'œuvre d'Aristote.   \n",
              "3276                                                                      Selon lui, « la nature ne fait rien en  vain », ce qui signifie que la nature est une puissance orientée vers certaines  fins.   \n",
              "3277                                                                                                                             L'explication  scientifique consistera donc à découvrir cette finalité.   \n",
              "3278                                                                                      Par exemple, si l'eau monte dans un tuyau dont on aspire l'air, c'est parce que \"la nature a horreur du vide\".   \n",
              "3279                                                                               Selon Jan Patocka, « On peut demander si cette philosophie ne nous offre pas un cas typique d'anthropomorphisme »[8].   \n",
              "\n",
              "     Language  \\\n",
              "0     English   \n",
              "1     English   \n",
              "2     English   \n",
              "3     English   \n",
              "4     English   \n",
              "...       ...   \n",
              "3275   French   \n",
              "3276   French   \n",
              "3277   French   \n",
              "3278   French   \n",
              "3279   French   \n",
              "\n",
              "                                                                                                                                                                                  text_nopunc  \\\n",
              "0                                                                                                             nature in the broadest sense is the natural physical material world or universe   \n",
              "1                                                                                                         nature can refer to the phenomena of the physical world and also to life in general   \n",
              "2                                                                                                                              the study of nature is a large if not the only part of science   \n",
              "3                                                                   although humans are part of nature human activity is often understood as a separate category from other natural phenomena   \n",
              "4     1 the word nature is borrowed from the old french nature and is derived from the latin word natura or essential qualities innate disposition and in ancient times literally meant birth   \n",
              "...                                                                                                                                                                                       ...   \n",
              "3275                                                                                                              la première grande philosophie de la nature se trouve dans lœuvre daristote   \n",
              "3276                                                                selon lui  la nature ne fait rien en  vain  ce qui signifie que la nature est une puissance orientée vers certaines  fins   \n",
              "3277                                                                                                                    lexplication  scientifique consistera donc à découvrir cette finalité   \n",
              "3278                                                                                   par exemple si leau monte dans un tuyau dont on aspire lair cest parce que la nature a horreur du vide   \n",
              "3279                                                                           selon jan patocka  on peut demander si cette philosophie ne nous offre pas un cas typique danthropomorphisme 8   \n",
              "\n",
              "                                                                                                                                                                                                  text_tokniz  \\\n",
              "0                                                                                                               [nature, in, the, broadest, sense, is, the, natural, physical, material, world, or, universe]   \n",
              "1                                                                                                        [nature, can, refer, to, the, phenomena, of, the, physical, world, and, also, to, life, in, general]   \n",
              "2                                                                                                                               [the, study, of, nature, is, a, large, if, not, the, only, part, of, science]   \n",
              "3                                                               [although, humans, are, part, of, nature, human, activity, is, often, understood, as, a, separate, category, from, other, natural, phenomena]   \n",
              "4     [1, the, word, nature, is, borrowed, from, the, old, french, nature, and, is, derived, from, the, latin, word, natura, or, essential, qualities, innate, disposition, and, in, ancient, times, liter...   \n",
              "...                                                                                                                                                                                                       ...   \n",
              "3275                                                                                                                 [la, première, grande, philosophie, de, la, nature, se, trouve, dans, lœuvre, daristote]   \n",
              "3276                                                             [selon, lui, la, nature, ne, fait, rien, en, vain, ce, qui, signifie, que, la, nature, est, une, puissance, orientée, vers, certaines, fins]   \n",
              "3277                                                                                                                            [lexplication, scientifique, consistera, donc, à, découvrir, cette, finalité]   \n",
              "3278                                                                             [par, exemple, si, leau, monte, dans, un, tuyau, dont, on, aspire, lair, cest, parce, que, la, nature, a, horreur, du, vide]   \n",
              "3279                                                                         [selon, jan, patocka, on, peut, demander, si, cette, philosophie, ne, nous, offre, pas, un, cas, typique, danthropomorphisme, 8]   \n",
              "\n",
              "                                                                                                                                             filtered_sentence_stopwords  \n",
              "0                                                                                                [nature, broadest, sense, natural, physical, material, world, universe]  \n",
              "1                                                                                                             [nature, refer, phenomena, physical, world, life, general]  \n",
              "2                                                                                                                                  [study, nature, large, part, science]  \n",
              "3                                                           [although, humans, part, nature, human, activity, often, understood, separate, category, natural, phenomena]  \n",
              "4     [1, word, nature, borrowed, old, french, nature, derived, latin, word, natura, essential, qualities, innate, disposition, ancient, times, literally, meant, birth]  \n",
              "...                                                                                                                                                                  ...  \n",
              "3275                                                                                                  [première, grande, philosophie, nature, trouve, lœuvre, daristote]  \n",
              "3276                                                                     [selon, nature, fait, rien, vain, signifie, nature, puissance, orientée, vers, certaines, fins]  \n",
              "3277                                                                                          [lexplication, scientifique, consistera, donc, découvrir, cette, finalité]  \n",
              "3278                                                                               [exemple, leau, monte, tuyau, dont, aspire, lair, cest, parce, nature, horreur, vide]  \n",
              "3279                                                               [selon, jan, patocka, peut, demander, cette, philosophie, offre, cas, typique, danthropomorphisme, 8]  \n",
              "\n",
              "[3280 rows x 5 columns]"
            ],
            "text/html": [
              "\n",
              "  <div id=\"df-bfa9e147-9cd3-447f-b054-3f7e5dbb0ca6\" class=\"colab-df-container\">\n",
              "    <div>\n",
              "<style scoped>\n",
              "    .dataframe tbody tr th:only-of-type {\n",
              "        vertical-align: middle;\n",
              "    }\n",
              "\n",
              "    .dataframe tbody tr th {\n",
              "        vertical-align: top;\n",
              "    }\n",
              "\n",
              "    .dataframe thead th {\n",
              "        text-align: right;\n",
              "    }\n",
              "</style>\n",
              "<table border=\"1\" class=\"dataframe\">\n",
              "  <thead>\n",
              "    <tr style=\"text-align: right;\">\n",
              "      <th></th>\n",
              "      <th>Text</th>\n",
              "      <th>Language</th>\n",
              "      <th>text_nopunc</th>\n",
              "      <th>text_tokniz</th>\n",
              "      <th>filtered_sentence_stopwords</th>\n",
              "    </tr>\n",
              "  </thead>\n",
              "  <tbody>\n",
              "    <tr>\n",
              "      <th>0</th>\n",
              "      <td>Nature, in the broadest sense, is the natural, physical, material world or universe.</td>\n",
              "      <td>English</td>\n",
              "      <td>nature in the broadest sense is the natural physical material world or universe</td>\n",
              "      <td>[nature, in, the, broadest, sense, is, the, natural, physical, material, world, or, universe]</td>\n",
              "      <td>[nature, broadest, sense, natural, physical, material, world, universe]</td>\n",
              "    </tr>\n",
              "    <tr>\n",
              "      <th>1</th>\n",
              "      <td>\"Nature\" can refer to the phenomena of the physical world, and also to life in general.</td>\n",
              "      <td>English</td>\n",
              "      <td>nature can refer to the phenomena of the physical world and also to life in general</td>\n",
              "      <td>[nature, can, refer, to, the, phenomena, of, the, physical, world, and, also, to, life, in, general]</td>\n",
              "      <td>[nature, refer, phenomena, physical, world, life, general]</td>\n",
              "    </tr>\n",
              "    <tr>\n",
              "      <th>2</th>\n",
              "      <td>The study of nature is a large, if not the only, part of science.</td>\n",
              "      <td>English</td>\n",
              "      <td>the study of nature is a large if not the only part of science</td>\n",
              "      <td>[the, study, of, nature, is, a, large, if, not, the, only, part, of, science]</td>\n",
              "      <td>[study, nature, large, part, science]</td>\n",
              "    </tr>\n",
              "    <tr>\n",
              "      <th>3</th>\n",
              "      <td>Although humans are part of nature, human activity is often understood as a separate category from other natural phenomena.</td>\n",
              "      <td>English</td>\n",
              "      <td>although humans are part of nature human activity is often understood as a separate category from other natural phenomena</td>\n",
              "      <td>[although, humans, are, part, of, nature, human, activity, is, often, understood, as, a, separate, category, from, other, natural, phenomena]</td>\n",
              "      <td>[although, humans, part, nature, human, activity, often, understood, separate, category, natural, phenomena]</td>\n",
              "    </tr>\n",
              "    <tr>\n",
              "      <th>4</th>\n",
              "      <td>[1] The word nature is borrowed from the Old French nature and is derived from the Latin word natura, or \"essential qualities, innate disposition\", and in ancient times, literally meant \"birth\".</td>\n",
              "      <td>English</td>\n",
              "      <td>1 the word nature is borrowed from the old french nature and is derived from the latin word natura or essential qualities innate disposition and in ancient times literally meant birth</td>\n",
              "      <td>[1, the, word, nature, is, borrowed, from, the, old, french, nature, and, is, derived, from, the, latin, word, natura, or, essential, qualities, innate, disposition, and, in, ancient, times, liter...</td>\n",
              "      <td>[1, word, nature, borrowed, old, french, nature, derived, latin, word, natura, essential, qualities, innate, disposition, ancient, times, literally, meant, birth]</td>\n",
              "    </tr>\n",
              "    <tr>\n",
              "      <th>...</th>\n",
              "      <td>...</td>\n",
              "      <td>...</td>\n",
              "      <td>...</td>\n",
              "      <td>...</td>\n",
              "      <td>...</td>\n",
              "    </tr>\n",
              "    <tr>\n",
              "      <th>3275</th>\n",
              "      <td>La première grande philosophie de la nature se trouve dans l'œuvre d'Aristote.</td>\n",
              "      <td>French</td>\n",
              "      <td>la première grande philosophie de la nature se trouve dans lœuvre daristote</td>\n",
              "      <td>[la, première, grande, philosophie, de, la, nature, se, trouve, dans, lœuvre, daristote]</td>\n",
              "      <td>[première, grande, philosophie, nature, trouve, lœuvre, daristote]</td>\n",
              "    </tr>\n",
              "    <tr>\n",
              "      <th>3276</th>\n",
              "      <td>Selon lui, « la nature ne fait rien en  vain », ce qui signifie que la nature est une puissance orientée vers certaines  fins.</td>\n",
              "      <td>French</td>\n",
              "      <td>selon lui  la nature ne fait rien en  vain  ce qui signifie que la nature est une puissance orientée vers certaines  fins</td>\n",
              "      <td>[selon, lui, la, nature, ne, fait, rien, en, vain, ce, qui, signifie, que, la, nature, est, une, puissance, orientée, vers, certaines, fins]</td>\n",
              "      <td>[selon, nature, fait, rien, vain, signifie, nature, puissance, orientée, vers, certaines, fins]</td>\n",
              "    </tr>\n",
              "    <tr>\n",
              "      <th>3277</th>\n",
              "      <td>L'explication  scientifique consistera donc à découvrir cette finalité.</td>\n",
              "      <td>French</td>\n",
              "      <td>lexplication  scientifique consistera donc à découvrir cette finalité</td>\n",
              "      <td>[lexplication, scientifique, consistera, donc, à, découvrir, cette, finalité]</td>\n",
              "      <td>[lexplication, scientifique, consistera, donc, découvrir, cette, finalité]</td>\n",
              "    </tr>\n",
              "    <tr>\n",
              "      <th>3278</th>\n",
              "      <td>Par exemple, si l'eau monte dans un tuyau dont on aspire l'air, c'est parce que \"la nature a horreur du vide\".</td>\n",
              "      <td>French</td>\n",
              "      <td>par exemple si leau monte dans un tuyau dont on aspire lair cest parce que la nature a horreur du vide</td>\n",
              "      <td>[par, exemple, si, leau, monte, dans, un, tuyau, dont, on, aspire, lair, cest, parce, que, la, nature, a, horreur, du, vide]</td>\n",
              "      <td>[exemple, leau, monte, tuyau, dont, aspire, lair, cest, parce, nature, horreur, vide]</td>\n",
              "    </tr>\n",
              "    <tr>\n",
              "      <th>3279</th>\n",
              "      <td>Selon Jan Patocka, « On peut demander si cette philosophie ne nous offre pas un cas typique d'anthropomorphisme »[8].</td>\n",
              "      <td>French</td>\n",
              "      <td>selon jan patocka  on peut demander si cette philosophie ne nous offre pas un cas typique danthropomorphisme 8</td>\n",
              "      <td>[selon, jan, patocka, on, peut, demander, si, cette, philosophie, ne, nous, offre, pas, un, cas, typique, danthropomorphisme, 8]</td>\n",
              "      <td>[selon, jan, patocka, peut, demander, cette, philosophie, offre, cas, typique, danthropomorphisme, 8]</td>\n",
              "    </tr>\n",
              "  </tbody>\n",
              "</table>\n",
              "<p>3280 rows × 5 columns</p>\n",
              "</div>\n",
              "    <div class=\"colab-df-buttons\">\n",
              "\n",
              "  <div class=\"colab-df-container\">\n",
              "    <button class=\"colab-df-convert\" onclick=\"convertToInteractive('df-bfa9e147-9cd3-447f-b054-3f7e5dbb0ca6')\"\n",
              "            title=\"Convert this dataframe to an interactive table.\"\n",
              "            style=\"display:none;\">\n",
              "\n",
              "  <svg xmlns=\"http://www.w3.org/2000/svg\" height=\"24px\" viewBox=\"0 -960 960 960\">\n",
              "    <path d=\"M120-120v-720h720v720H120Zm60-500h600v-160H180v160Zm220 220h160v-160H400v160Zm0 220h160v-160H400v160ZM180-400h160v-160H180v160Zm440 0h160v-160H620v160ZM180-180h160v-160H180v160Zm440 0h160v-160H620v160Z\"/>\n",
              "  </svg>\n",
              "    </button>\n",
              "\n",
              "  <style>\n",
              "    .colab-df-container {\n",
              "      display:flex;\n",
              "      gap: 12px;\n",
              "    }\n",
              "\n",
              "    .colab-df-convert {\n",
              "      background-color: #E8F0FE;\n",
              "      border: none;\n",
              "      border-radius: 50%;\n",
              "      cursor: pointer;\n",
              "      display: none;\n",
              "      fill: #1967D2;\n",
              "      height: 32px;\n",
              "      padding: 0 0 0 0;\n",
              "      width: 32px;\n",
              "    }\n",
              "\n",
              "    .colab-df-convert:hover {\n",
              "      background-color: #E2EBFA;\n",
              "      box-shadow: 0px 1px 2px rgba(60, 64, 67, 0.3), 0px 1px 3px 1px rgba(60, 64, 67, 0.15);\n",
              "      fill: #174EA6;\n",
              "    }\n",
              "\n",
              "    .colab-df-buttons div {\n",
              "      margin-bottom: 4px;\n",
              "    }\n",
              "\n",
              "    [theme=dark] .colab-df-convert {\n",
              "      background-color: #3B4455;\n",
              "      fill: #D2E3FC;\n",
              "    }\n",
              "\n",
              "    [theme=dark] .colab-df-convert:hover {\n",
              "      background-color: #434B5C;\n",
              "      box-shadow: 0px 1px 3px 1px rgba(0, 0, 0, 0.15);\n",
              "      filter: drop-shadow(0px 1px 2px rgba(0, 0, 0, 0.3));\n",
              "      fill: #FFFFFF;\n",
              "    }\n",
              "  </style>\n",
              "\n",
              "    <script>\n",
              "      const buttonEl =\n",
              "        document.querySelector('#df-bfa9e147-9cd3-447f-b054-3f7e5dbb0ca6 button.colab-df-convert');\n",
              "      buttonEl.style.display =\n",
              "        google.colab.kernel.accessAllowed ? 'block' : 'none';\n",
              "\n",
              "      async function convertToInteractive(key) {\n",
              "        const element = document.querySelector('#df-bfa9e147-9cd3-447f-b054-3f7e5dbb0ca6');\n",
              "        const dataTable =\n",
              "          await google.colab.kernel.invokeFunction('convertToInteractive',\n",
              "                                                    [key], {});\n",
              "        if (!dataTable) return;\n",
              "\n",
              "        const docLinkHtml = 'Like what you see? Visit the ' +\n",
              "          '<a target=\"_blank\" href=https://colab.research.google.com/notebooks/data_table.ipynb>data table notebook</a>'\n",
              "          + ' to learn more about interactive tables.';\n",
              "        element.innerHTML = '';\n",
              "        dataTable['output_type'] = 'display_data';\n",
              "        await google.colab.output.renderOutput(dataTable, element);\n",
              "        const docLink = document.createElement('div');\n",
              "        docLink.innerHTML = docLinkHtml;\n",
              "        element.appendChild(docLink);\n",
              "      }\n",
              "    </script>\n",
              "  </div>\n",
              "\n",
              "\n",
              "<div id=\"df-aa1f7bf5-897d-42ad-bb15-dda69d6cc714\">\n",
              "  <button class=\"colab-df-quickchart\" onclick=\"quickchart('df-aa1f7bf5-897d-42ad-bb15-dda69d6cc714')\"\n",
              "            title=\"Suggest charts.\"\n",
              "            style=\"display:none;\">\n",
              "\n",
              "<svg xmlns=\"http://www.w3.org/2000/svg\" height=\"24px\"viewBox=\"0 0 24 24\"\n",
              "     width=\"24px\">\n",
              "    <g>\n",
              "        <path d=\"M19 3H5c-1.1 0-2 .9-2 2v14c0 1.1.9 2 2 2h14c1.1 0 2-.9 2-2V5c0-1.1-.9-2-2-2zM9 17H7v-7h2v7zm4 0h-2V7h2v10zm4 0h-2v-4h2v4z\"/>\n",
              "    </g>\n",
              "</svg>\n",
              "  </button>\n",
              "\n",
              "<style>\n",
              "  .colab-df-quickchart {\n",
              "      --bg-color: #E8F0FE;\n",
              "      --fill-color: #1967D2;\n",
              "      --hover-bg-color: #E2EBFA;\n",
              "      --hover-fill-color: #174EA6;\n",
              "      --disabled-fill-color: #AAA;\n",
              "      --disabled-bg-color: #DDD;\n",
              "  }\n",
              "\n",
              "  [theme=dark] .colab-df-quickchart {\n",
              "      --bg-color: #3B4455;\n",
              "      --fill-color: #D2E3FC;\n",
              "      --hover-bg-color: #434B5C;\n",
              "      --hover-fill-color: #FFFFFF;\n",
              "      --disabled-bg-color: #3B4455;\n",
              "      --disabled-fill-color: #666;\n",
              "  }\n",
              "\n",
              "  .colab-df-quickchart {\n",
              "    background-color: var(--bg-color);\n",
              "    border: none;\n",
              "    border-radius: 50%;\n",
              "    cursor: pointer;\n",
              "    display: none;\n",
              "    fill: var(--fill-color);\n",
              "    height: 32px;\n",
              "    padding: 0;\n",
              "    width: 32px;\n",
              "  }\n",
              "\n",
              "  .colab-df-quickchart:hover {\n",
              "    background-color: var(--hover-bg-color);\n",
              "    box-shadow: 0 1px 2px rgba(60, 64, 67, 0.3), 0 1px 3px 1px rgba(60, 64, 67, 0.15);\n",
              "    fill: var(--button-hover-fill-color);\n",
              "  }\n",
              "\n",
              "  .colab-df-quickchart-complete:disabled,\n",
              "  .colab-df-quickchart-complete:disabled:hover {\n",
              "    background-color: var(--disabled-bg-color);\n",
              "    fill: var(--disabled-fill-color);\n",
              "    box-shadow: none;\n",
              "  }\n",
              "\n",
              "  .colab-df-spinner {\n",
              "    border: 2px solid var(--fill-color);\n",
              "    border-color: transparent;\n",
              "    border-bottom-color: var(--fill-color);\n",
              "    animation:\n",
              "      spin 1s steps(1) infinite;\n",
              "  }\n",
              "\n",
              "  @keyframes spin {\n",
              "    0% {\n",
              "      border-color: transparent;\n",
              "      border-bottom-color: var(--fill-color);\n",
              "      border-left-color: var(--fill-color);\n",
              "    }\n",
              "    20% {\n",
              "      border-color: transparent;\n",
              "      border-left-color: var(--fill-color);\n",
              "      border-top-color: var(--fill-color);\n",
              "    }\n",
              "    30% {\n",
              "      border-color: transparent;\n",
              "      border-left-color: var(--fill-color);\n",
              "      border-top-color: var(--fill-color);\n",
              "      border-right-color: var(--fill-color);\n",
              "    }\n",
              "    40% {\n",
              "      border-color: transparent;\n",
              "      border-right-color: var(--fill-color);\n",
              "      border-top-color: var(--fill-color);\n",
              "    }\n",
              "    60% {\n",
              "      border-color: transparent;\n",
              "      border-right-color: var(--fill-color);\n",
              "    }\n",
              "    80% {\n",
              "      border-color: transparent;\n",
              "      border-right-color: var(--fill-color);\n",
              "      border-bottom-color: var(--fill-color);\n",
              "    }\n",
              "    90% {\n",
              "      border-color: transparent;\n",
              "      border-bottom-color: var(--fill-color);\n",
              "    }\n",
              "  }\n",
              "</style>\n",
              "\n",
              "  <script>\n",
              "    async function quickchart(key) {\n",
              "      const quickchartButtonEl =\n",
              "        document.querySelector('#' + key + ' button');\n",
              "      quickchartButtonEl.disabled = true;  // To prevent multiple clicks.\n",
              "      quickchartButtonEl.classList.add('colab-df-spinner');\n",
              "      try {\n",
              "        const charts = await google.colab.kernel.invokeFunction(\n",
              "            'suggestCharts', [key], {});\n",
              "      } catch (error) {\n",
              "        console.error('Error during call to suggestCharts:', error);\n",
              "      }\n",
              "      quickchartButtonEl.classList.remove('colab-df-spinner');\n",
              "      quickchartButtonEl.classList.add('colab-df-quickchart-complete');\n",
              "    }\n",
              "    (() => {\n",
              "      let quickchartButtonEl =\n",
              "        document.querySelector('#df-aa1f7bf5-897d-42ad-bb15-dda69d6cc714 button');\n",
              "      quickchartButtonEl.style.display =\n",
              "        google.colab.kernel.accessAllowed ? 'block' : 'none';\n",
              "    })();\n",
              "  </script>\n",
              "</div>\n",
              "    </div>\n",
              "  </div>\n"
            ]
          },
          "metadata": {},
          "execution_count": 29
        }
      ],
      "source": [
        "df.head(3280)"
      ]
    },
    {
      "cell_type": "code",
      "execution_count": null,
      "id": "870ee933",
      "metadata": {
        "execution": {
          "iopub.execute_input": "2023-05-09T17:30:16.009954Z",
          "iopub.status.busy": "2023-05-09T17:30:16.009403Z",
          "iopub.status.idle": "2023-05-09T17:30:16.020006Z",
          "shell.execute_reply": "2023-05-09T17:30:16.018637Z"
        },
        "papermill": {
          "duration": 0.032154,
          "end_time": "2023-05-09T17:30:16.023485",
          "exception": false,
          "start_time": "2023-05-09T17:30:15.991331",
          "status": "completed"
        },
        "tags": [],
        "id": "870ee933",
        "outputId": "1b801418-9aa3-46c5-d8b6-b65c0e27bd19",
        "colab": {
          "base_uri": "https://localhost:8080/"
        }
      },
      "outputs": [
        {
          "output_type": "stream",
          "name": "stdout",
          "text": [
            "0                                                                                                                                nature in the broadest sense is the natural physical material world or universe\n",
            "1                                                                                                                            nature can refer to the phenomena of the physical world and also to life in general\n",
            "2                                                                                                                                                 the study of nature is a large if not the only part of science\n",
            "3                                                                                      although humans are part of nature human activity is often understood as a separate category from other natural phenomena\n",
            "4                        1 the word nature is borrowed from the old french nature and is derived from the latin word natura or essential qualities innate disposition and in ancient times literally meant birth\n",
            "                                                                                                          ...                                                                                                   \n",
            "10332                                                                                                                                             ನಿಮ್ಮ ತಪ್ಪು ಏನು ಬಂದಿದೆಯೆಂದರೆ ಆ ದಿನದಿಂದ ನಿಮಗೆ ಒಳ್ಳೆಯದನ್ನು ನೀಡೋಣ\n",
            "10333    ನಾರ್ಸಿಸಾ ತಾನು ಮೊದಲಿಗೆ ಹೆಣಗಾಡುತ್ತಿದ್ದ ಮಾರ್ಗಗಳನ್ನು ಬದಲಾಯಿಸಿದಳು ಆದರೆ ನಿಧಾನವಾಗಿ ಮತ್ತು ತಾಳ್ಮೆಯಿಂದ ಅವಳು ಒಂದು ದಿನ ಮೆಲ್ಲಿ ಆಗಲು ಪ್ರಾರಂಭಿಸಿದಳು ಮೆಲ್ಲಿ ಮತ್ತು ಟೆರ್ರಿ ಮತ್ತೆ ಮರಿಯನ್ ಅವರನ್ನು ಭೇಟಿಯಾಗಲು ಬಂದರು ಓಹ್ ಹಲ...\n",
            "10334                                                                                                       ಹೇಗೆ  ನಾರ್ಸಿಸಿಸಮ್ ಈಗ ಮರಿಯನ್ ಅವರಿಗೆ ಸಂಭವಿಸಿದ ಎಲ್ಲವನ್ನೂ ಹೇಳಿದೆ ಮತ್ತು ಅವಳು ಆ ಸಮಯದಿಂದ ತುಂಬಾ ಬದಲಾಗಿದ್ದಾಳೆ\n",
            "10335                                                                                                                                          ಅವಳು ಈಗ ಹೆಚ್ಚು ಚಿನ್ನದ ಬ್ರೆಡ್ ಬಯಸುವುದಿಲ್ಲ ಎಂದು ನಾನು ess ಹಿಸಿದ್ದೇನೆ\n",
            "10336                                                                     ಟೆರ್ರಿ ನೀವು ನಿಜವಾಗಿಯೂ ಆ ದೇವದೂತನಂತೆ ಸ್ವಲ್ಪ ಕಾಣುತ್ತಿದ್ದೀರಿ ಆದರೆ ನಾನು ಏನು ನೋಡುತ್ತಿದ್ದೇನೆ ನೀವು ಹೇಗೆ ಅವನಾಗಬಹುದು ನೀವು ಇಬ್ಬರು ತುಂಬಾ ಒಳ್ಳೆಯವರು\n",
            "Name: text_nopunc, Length: 10337, dtype: object\n"
          ]
        }
      ],
      "source": [
        "f=df['text_nopunc']\n",
        "l=df['Language']\n",
        "print(f)"
      ]
    },
    {
      "cell_type": "code",
      "execution_count": null,
      "id": "2a227227",
      "metadata": {
        "execution": {
          "iopub.execute_input": "2023-05-09T17:30:16.058996Z",
          "iopub.status.busy": "2023-05-09T17:30:16.057412Z",
          "iopub.status.idle": "2023-05-09T17:30:16.066795Z",
          "shell.execute_reply": "2023-05-09T17:30:16.064967Z"
        },
        "papermill": {
          "duration": 0.030116,
          "end_time": "2023-05-09T17:30:16.070462",
          "exception": false,
          "start_time": "2023-05-09T17:30:16.040346",
          "status": "completed"
        },
        "tags": [],
        "id": "2a227227",
        "outputId": "230f12c7-890f-467d-cdf3-61401d13b13e",
        "colab": {
          "base_uri": "https://localhost:8080/"
        }
      },
      "outputs": [
        {
          "output_type": "stream",
          "name": "stdout",
          "text": [
            "English\n"
          ]
        }
      ],
      "source": [
        "codel = {\"English\":0,\n",
        "\"French\":1,\n",
        "\"Spanish\":2,\n",
        "\"Portugeese\":3,\n",
        "\"Italian\":4,\n",
        "\"Russian\":5,\n",
        "\"Sweedish\":6,\n",
        "\"Malayalam\":7,\n",
        "\"Dutch\":8,\n",
        "\"Arabic\":9,\n",
        "\"Turkish\":10,\n",
        "\"German\":11,\n",
        "\"Tamil\":12,\n",
        "\"Danish\":13,\n",
        "\"Kannada\":14,\n",
        "\"Greek\":15,\n",
        "\"Hindi\":16}\n",
        "def getcodel(n) :\n",
        "    for x , y in codel.items() :\n",
        "        if n == y :\n",
        "            return x\n",
        "print(getcodel(0))"
      ]
    },
    {
      "cell_type": "code",
      "execution_count": null,
      "id": "838fa205",
      "metadata": {
        "execution": {
          "iopub.execute_input": "2023-05-09T17:30:16.105160Z",
          "iopub.status.busy": "2023-05-09T17:30:16.104695Z",
          "iopub.status.idle": "2023-05-09T17:30:16.114610Z",
          "shell.execute_reply": "2023-05-09T17:30:16.112562Z"
        },
        "papermill": {
          "duration": 0.029839,
          "end_time": "2023-05-09T17:30:16.117948",
          "exception": false,
          "start_time": "2023-05-09T17:30:16.088109",
          "status": "completed"
        },
        "tags": [],
        "id": "838fa205",
        "outputId": "b9c2f2ef-e9ce-4a22-a51d-54749e42dc46",
        "colab": {
          "base_uri": "https://localhost:8080/"
        }
      },
      "outputs": [
        {
          "output_type": "stream",
          "name": "stdout",
          "text": [
            "16\n"
          ]
        }
      ],
      "source": [
        "code = {0:\"English\",\n",
        "1:\"French\",\n",
        "2:\"Spanish\",\n",
        "3:\"Portugeese\",\n",
        "4:\"Italian\",\n",
        "5:\"Russian\",\n",
        "6:\"Sweedish\",\n",
        "7:\"Malayalam\",\n",
        "8:\"Dutch\",\n",
        "9:\"Arabic\",\n",
        "10:\"Turkish\",\n",
        "11:\"German\",\n",
        "12:\"Tamil\",\n",
        "13:\"Danish\",\n",
        "14:\"Kannada\",\n",
        "15:\"Greek\",\n",
        "16:\"Hindi\"}\n",
        "def getcode(n) :\n",
        "    for x , y in code.items() :\n",
        "        if n == y :\n",
        "            return x\n",
        "print(getcode(\"Hindi\"))"
      ]
    },
    {
      "cell_type": "code",
      "execution_count": null,
      "id": "7f90613b",
      "metadata": {
        "execution": {
          "iopub.execute_input": "2023-05-09T17:30:16.156238Z",
          "iopub.status.busy": "2023-05-09T17:30:16.155339Z",
          "iopub.status.idle": "2023-05-09T17:30:16.276667Z",
          "shell.execute_reply": "2023-05-09T17:30:16.275128Z"
        },
        "papermill": {
          "duration": 0.145835,
          "end_time": "2023-05-09T17:30:16.280387",
          "exception": false,
          "start_time": "2023-05-09T17:30:16.134552",
          "status": "completed"
        },
        "tags": [],
        "id": "7f90613b"
      },
      "outputs": [],
      "source": [
        "training_data = []\n",
        "for i in range(10337):\n",
        "    class_num=getcode(l[i])\n",
        "    #for j in f[i]:\n",
        "     #   s+=\" \"+j\n",
        "    training_data.append([f[i], class_num])"
      ]
    },
    {
      "cell_type": "code",
      "execution_count": null,
      "id": "d778567e",
      "metadata": {
        "execution": {
          "iopub.execute_input": "2023-05-09T17:30:16.323698Z",
          "iopub.status.busy": "2023-05-09T17:30:16.323050Z",
          "iopub.status.idle": "2023-05-09T17:30:16.331461Z",
          "shell.execute_reply": "2023-05-09T17:30:16.329348Z"
        },
        "papermill": {
          "duration": 0.034045,
          "end_time": "2023-05-09T17:30:16.335766",
          "exception": false,
          "start_time": "2023-05-09T17:30:16.301721",
          "status": "completed"
        },
        "tags": [],
        "id": "d778567e",
        "outputId": "8bfc3280-da2f-4b10-e49f-a33414dd10dc",
        "colab": {
          "base_uri": "https://localhost:8080/"
        }
      },
      "outputs": [
        {
          "output_type": "stream",
          "name": "stdout",
          "text": [
            "2\n",
            " nature in the broadest sense is the natural physical material world or universe\n"
          ]
        }
      ],
      "source": [
        "print(len(training_data[0]))\n",
        "print(training_data[0][0])"
      ]
    },
    {
      "cell_type": "code",
      "execution_count": null,
      "id": "21af074b",
      "metadata": {
        "execution": {
          "iopub.execute_input": "2023-05-09T17:30:16.373277Z",
          "iopub.status.busy": "2023-05-09T17:30:16.372646Z",
          "iopub.status.idle": "2023-05-09T17:30:16.388119Z",
          "shell.execute_reply": "2023-05-09T17:30:16.386511Z"
        },
        "papermill": {
          "duration": 0.038523,
          "end_time": "2023-05-09T17:30:16.392711",
          "exception": false,
          "start_time": "2023-05-09T17:30:16.354188",
          "status": "completed"
        },
        "tags": [],
        "id": "21af074b",
        "outputId": "c67cdbe3-d4b4-4556-ba4e-0f347b54e9e5",
        "colab": {
          "base_uri": "https://localhost:8080/"
        }
      },
      "outputs": [
        {
          "output_type": "stream",
          "name": "stdout",
          "text": [
            " nature in the broadest sense is the natural physical material world or universe\n",
            "English\n",
            "nature can refer to the phenomena of the physical world and also to life in general\n",
            "English\n",
            "the study of nature is a large if not the only part of science\n",
            "English\n",
            "although humans are part of nature human activity is often understood as a separate category from other natural phenomena\n",
            "English\n",
            "1 the word nature is borrowed from the old french nature and is derived from the latin word natura or essential qualities innate disposition and in ancient times literally meant birth\n",
            "English\n",
            "2 in ancient philosophy natura is mostly used as the latin translation of the greek word physis φύσις which originally related to the intrinsic characteristics that plants animals and other features of the world develop of their own accord\n",
            "English\n",
            "34 \n",
            "the concept of nature as a whole the physical universe is one of several expansions of the original notion1 it began with certain core applications of the word φύσις by presocratic philosophers though this word had a dynamic dimension then especially for heraclitus and has steadily gained currency ever since\n",
            "English\n",
            "during the advent of modern scientific method in the last several centuries nature became the passive reality organized and moved by divine laws\n",
            "English\n",
            "56 with the industrial revolution nature increasingly became seen as the part of reality deprived from intentional intervention  it was hence considered as sacred by some traditions rousseau american transcendentalism or a mere decorum for divine providence or human history hegel marx\n",
            "English\n",
            "however a vitalist vision of nature closer to the presocratic one got reborn at the same time especially after charles darwin\n",
            "English\n"
          ]
        }
      ],
      "source": [
        "x=[]\n",
        "y=[]\n",
        "for text,label in training_data:\n",
        "    x.append(text)\n",
        "    y.append(label)\n",
        "for i in range(10):\n",
        "    print(x[i])\n",
        "    print(getcodel(y[i]))"
      ]
    },
    {
      "cell_type": "code",
      "execution_count": null,
      "id": "1f93a3e0",
      "metadata": {
        "execution": {
          "iopub.execute_input": "2023-05-09T17:30:16.429133Z",
          "iopub.status.busy": "2023-05-09T17:30:16.428597Z",
          "iopub.status.idle": "2023-05-09T17:30:17.561461Z",
          "shell.execute_reply": "2023-05-09T17:30:17.558742Z"
        },
        "papermill": {
          "duration": 1.157263,
          "end_time": "2023-05-09T17:30:17.565609",
          "exception": false,
          "start_time": "2023-05-09T17:30:16.408346",
          "status": "completed"
        },
        "tags": [],
        "id": "1f93a3e0",
        "outputId": "4875b6f7-279b-4f93-a994-334af95aef58",
        "colab": {
          "base_uri": "https://localhost:8080/"
        }
      },
      "outputs": [
        {
          "output_type": "stream",
          "name": "stdout",
          "text": [
            "(10337, 41358)\n",
            "Sparse Matrix :\n",
            " [[0. 0. 0. ... 0. 0. 0.]\n",
            " [0. 0. 0. ... 0. 0. 0.]\n",
            " [0. 0. 0. ... 0. 0. 0.]\n",
            " ...\n",
            " [0. 0. 0. ... 0. 0. 0.]\n",
            " [0. 0. 0. ... 0. 0. 0.]\n",
            " [0. 0. 0. ... 0. 0. 0.]]\n"
          ]
        }
      ],
      "source": [
        "tfidf=TfidfVectorizer()\n",
        "features_tfidf=tfidf.fit_transform(x).toarray()\n",
        "print(features_tfidf.shape)\n",
        "print('Sparse Matrix :\\n',features_tfidf)"
      ]
    },
    {
      "cell_type": "code",
      "execution_count": null,
      "id": "ca2f4a38",
      "metadata": {
        "execution": {
          "iopub.execute_input": "2023-05-09T17:30:17.612136Z",
          "iopub.status.busy": "2023-05-09T17:30:17.611607Z",
          "iopub.status.idle": "2023-05-09T17:30:18.333601Z",
          "shell.execute_reply": "2023-05-09T17:30:18.331306Z"
        },
        "papermill": {
          "duration": 0.748029,
          "end_time": "2023-05-09T17:30:18.336681",
          "exception": false,
          "start_time": "2023-05-09T17:30:17.588652",
          "status": "completed"
        },
        "tags": [],
        "id": "ca2f4a38",
        "outputId": "d9486af3-a10d-4bce-99c4-32ee36fac83e",
        "colab": {
          "base_uri": "https://localhost:8080/"
        }
      },
      "outputs": [
        {
          "output_type": "stream",
          "name": "stdout",
          "text": [
            "(10337, 41358)\n",
            "Sparse Matrix :\n",
            " [[0 0 0 ... 0 0 0]\n",
            " [0 0 0 ... 0 0 0]\n",
            " [0 0 0 ... 0 0 0]\n",
            " ...\n",
            " [0 0 0 ... 0 0 0]\n",
            " [0 0 0 ... 0 0 0]\n",
            " [0 0 0 ... 0 0 0]]\n"
          ]
        }
      ],
      "source": [
        "count=CountVectorizer()\n",
        "features_count=count.fit_transform(x).toarray()\n",
        "print(features_count.shape)\n",
        "print('Sparse Matrix :\\n',features_count)"
      ]
    },
    {
      "cell_type": "code",
      "execution_count": null,
      "id": "e8d6e936",
      "metadata": {
        "execution": {
          "iopub.execute_input": "2023-05-09T17:30:18.373512Z",
          "iopub.status.busy": "2023-05-09T17:30:18.373083Z",
          "iopub.status.idle": "2023-05-09T17:30:19.202438Z",
          "shell.execute_reply": "2023-05-09T17:30:19.200688Z"
        },
        "papermill": {
          "duration": 0.852418,
          "end_time": "2023-05-09T17:30:19.206644",
          "exception": false,
          "start_time": "2023-05-09T17:30:18.354226",
          "status": "completed"
        },
        "tags": [],
        "id": "e8d6e936",
        "outputId": "a9213c79-e940-488b-9c83-e2ec705ec074",
        "colab": {
          "base_uri": "https://localhost:8080/"
        }
      },
      "outputs": [
        {
          "output_type": "stream",
          "name": "stdout",
          "text": [
            "(10337, 130499)\n",
            "Sparse Matrix :\n",
            "   (0, 57232)\t1\n",
            "  (0, 43472)\t1\n",
            "  (0, 82716)\t1\n",
            "  (0, 12866)\t1\n",
            "  (0, 75037)\t1\n",
            "  (0, 45453)\t1\n",
            "  (0, 83104)\t1\n",
            "  (0, 57149)\t1\n",
            "  (0, 65727)\t1\n",
            "  (0, 53230)\t1\n",
            "  (0, 94535)\t1\n",
            "  (0, 62490)\t1\n",
            "  (1, 57178)\t1\n",
            "  (1, 13725)\t1\n",
            "  (1, 71485)\t1\n",
            "  (1, 84762)\t1\n",
            "  (1, 83193)\t1\n",
            "  (1, 65621)\t1\n",
            "  (1, 60830)\t1\n",
            "  (1, 83197)\t1\n",
            "  (1, 65731)\t1\n",
            "  (1, 94526)\t1\n",
            "  (1, 5980)\t1\n",
            "  (1, 5272)\t1\n",
            "  (1, 84600)\t1\n",
            "  :\t:\n",
            "  (10334, 125529)\t1\n",
            "  (10334, 126177)\t1\n",
            "  (10334, 124419)\t1\n",
            "  (10334, 125693)\t1\n",
            "  (10334, 124224)\t1\n",
            "  (10334, 125464)\t1\n",
            "  (10334, 124463)\t1\n",
            "  (10334, 125963)\t1\n",
            "  (10334, 124262)\t1\n",
            "  (10334, 126182)\t1\n",
            "  (10335, 124242)\t1\n",
            "  (10335, 124414)\t1\n",
            "  (10335, 125156)\t1\n",
            "  (10335, 125400)\t1\n",
            "  (10336, 124513)\t1\n",
            "  (10336, 124383)\t1\n",
            "  (10336, 126035)\t1\n",
            "  (10336, 124734)\t1\n",
            "  (10336, 124851)\t1\n",
            "  (10336, 126079)\t1\n",
            "  (10336, 124292)\t1\n",
            "  (10336, 124477)\t1\n",
            "  (10336, 124197)\t1\n",
            "  (10336, 124613)\t1\n",
            "  (10336, 125415)\t1\n"
          ]
        }
      ],
      "source": [
        "n_gram=CountVectorizer(ngram_range=(2,2))\n",
        "features_n_gram=n_gram.fit_transform(x)\n",
        "print(features_n_gram.shape)\n",
        "print('Sparse Matrix :\\n',features_n_gram)"
      ]
    },
    {
      "cell_type": "code",
      "execution_count": null,
      "id": "d0a2df7a",
      "metadata": {
        "execution": {
          "iopub.execute_input": "2023-05-09T17:30:19.243127Z",
          "iopub.status.busy": "2023-05-09T17:30:19.242646Z",
          "iopub.status.idle": "2023-05-09T17:30:19.249708Z",
          "shell.execute_reply": "2023-05-09T17:30:19.247635Z"
        },
        "papermill": {
          "duration": 0.028291,
          "end_time": "2023-05-09T17:30:19.253001",
          "exception": false,
          "start_time": "2023-05-09T17:30:19.224710",
          "status": "completed"
        },
        "tags": [],
        "id": "d0a2df7a",
        "outputId": "035637b6-a349-49c9-a4b6-d4c8cd56a35a",
        "colab": {
          "base_uri": "https://localhost:8080/"
        }
      },
      "outputs": [
        {
          "output_type": "stream",
          "name": "stdout",
          "text": [
            " nature in the broadest sense is the natural physical material world or universe\n"
          ]
        }
      ],
      "source": [
        "print(training_data[0][0])"
      ]
    },
    {
      "cell_type": "code",
      "execution_count": null,
      "id": "939ea335",
      "metadata": {
        "execution": {
          "iopub.execute_input": "2023-05-09T17:30:19.552607Z",
          "iopub.status.busy": "2023-05-09T17:30:19.551746Z",
          "iopub.status.idle": "2023-05-09T17:30:22.185232Z",
          "shell.execute_reply": "2023-05-09T17:30:22.183947Z"
        },
        "papermill": {
          "duration": 2.654137,
          "end_time": "2023-05-09T17:30:22.188072",
          "exception": false,
          "start_time": "2023-05-09T17:30:19.533935",
          "status": "completed"
        },
        "tags": [],
        "id": "939ea335"
      },
      "outputs": [],
      "source": [
        "from sklearn.model_selection import train_test_split\n",
        "x_train, x_test, y_train, y_test = train_test_split(features_tfidf,y,test_size=0.1, random_state=24)"
      ]
    },
    {
      "cell_type": "code",
      "execution_count": null,
      "id": "526b424c",
      "metadata": {
        "execution": {
          "iopub.execute_input": "2023-05-09T17:30:22.220919Z",
          "iopub.status.busy": "2023-05-09T17:30:22.220503Z",
          "iopub.status.idle": "2023-05-09T17:30:24.139402Z",
          "shell.execute_reply": "2023-05-09T17:30:24.138195Z"
        },
        "papermill": {
          "duration": 1.944984,
          "end_time": "2023-05-09T17:30:24.148296",
          "exception": false,
          "start_time": "2023-05-09T17:30:22.203312",
          "status": "completed"
        },
        "tags": [],
        "id": "526b424c",
        "outputId": "885e33ad-89df-4c0c-a31d-969a1d87609a",
        "colab": {
          "base_uri": "https://localhost:8080/"
        }
      },
      "outputs": [
        {
          "output_type": "stream",
          "name": "stdout",
          "text": [
            "              precision    recall  f1-score   support\n",
            "\n",
            "           0       0.83      1.00      0.91       148\n",
            "           1       1.00      1.00      1.00       100\n",
            "           2       0.99      0.99      0.99        75\n",
            "           3       1.00      0.97      0.99        74\n",
            "           4       1.00      0.99      0.99        74\n",
            "           5       1.00      0.96      0.98        72\n",
            "           6       1.00      0.96      0.98        84\n",
            "           7       1.00      0.98      0.99        49\n",
            "           8       1.00      0.96      0.98        55\n",
            "           9       1.00      0.93      0.96        58\n",
            "          10       1.00      0.83      0.91        47\n",
            "          11       1.00      0.96      0.98        50\n",
            "          12       1.00      0.97      0.99        40\n",
            "          13       0.97      1.00      0.99        37\n",
            "          14       1.00      0.96      0.98        28\n",
            "          15       1.00      0.94      0.97        32\n",
            "          16       1.00      0.82      0.90        11\n",
            "\n",
            "    accuracy                           0.97      1034\n",
            "   macro avg       0.99      0.95      0.97      1034\n",
            "weighted avg       0.97      0.97      0.97      1034\n",
            "\n"
          ]
        }
      ],
      "source": [
        "language_detect_model = MultinomialNB().fit(x_train, y_train)\n",
        "pred_test_MNB = language_detect_model.predict(x_test)\n",
        "\n",
        "print (classification_report(y_test, pred_test_MNB))"
      ]
    },
    {
      "cell_type": "code",
      "execution_count": null,
      "id": "52b2bd0a",
      "metadata": {
        "execution": {
          "iopub.execute_input": "2023-05-09T17:30:24.218274Z",
          "iopub.status.busy": "2023-05-09T17:30:24.217842Z",
          "iopub.status.idle": "2023-05-09T17:30:27.195523Z",
          "shell.execute_reply": "2023-05-09T17:30:27.194625Z"
        },
        "papermill": {
          "duration": 3.005798,
          "end_time": "2023-05-09T17:30:27.198057",
          "exception": false,
          "start_time": "2023-05-09T17:30:24.192259",
          "status": "completed"
        },
        "tags": [],
        "id": "52b2bd0a"
      },
      "outputs": [],
      "source": [
        "from sklearn.model_selection import train_test_split\n",
        "x_train, x_test, y_train, y_test = train_test_split(features_count,y,test_size=0.1, random_state=24)"
      ]
    },
    {
      "cell_type": "code",
      "execution_count": null,
      "id": "685b2a86",
      "metadata": {
        "execution": {
          "iopub.execute_input": "2023-05-09T17:30:27.232592Z",
          "iopub.status.busy": "2023-05-09T17:30:27.231881Z",
          "iopub.status.idle": "2023-05-09T17:31:21.682940Z",
          "shell.execute_reply": "2023-05-09T17:31:21.681706Z"
        },
        "papermill": {
          "duration": 54.519218,
          "end_time": "2023-05-09T17:31:21.733250",
          "exception": false,
          "start_time": "2023-05-09T17:30:27.214032",
          "status": "completed"
        },
        "tags": [],
        "id": "685b2a86",
        "outputId": "e5f4b216-6971-4206-e250-4e6bbeca3a00",
        "colab": {
          "base_uri": "https://localhost:8080/"
        }
      },
      "outputs": [
        {
          "output_type": "stream",
          "name": "stdout",
          "text": [
            "              precision    recall  f1-score   support\n",
            "\n",
            "           0       0.95      1.00      0.97       148\n",
            "           1       1.00      1.00      1.00       100\n",
            "           2       0.99      0.99      0.99        75\n",
            "           3       1.00      1.00      1.00        74\n",
            "           4       1.00      1.00      1.00        74\n",
            "           5       1.00      1.00      1.00        72\n",
            "           6       1.00      0.96      0.98        84\n",
            "           7       0.98      1.00      0.99        49\n",
            "           8       1.00      0.98      0.99        55\n",
            "           9       1.00      0.98      0.99        58\n",
            "          10       1.00      0.94      0.97        47\n",
            "          11       1.00      0.98      0.99        50\n",
            "          12       1.00      0.97      0.99        40\n",
            "          13       0.97      1.00      0.99        37\n",
            "          14       1.00      1.00      1.00        28\n",
            "          15       1.00      1.00      1.00        32\n",
            "          16       1.00      1.00      1.00        11\n",
            "\n",
            "    accuracy                           0.99      1034\n",
            "   macro avg       0.99      0.99      0.99      1034\n",
            "weighted avg       0.99      0.99      0.99      1034\n",
            "\n"
          ]
        }
      ],
      "source": [
        "language_detect_model = MultinomialNB().fit(x_train, y_train)\n",
        "pred_test_MNB = language_detect_model.predict(x_test)\n",
        "print (classification_report(y_test, pred_test_MNB))"
      ]
    },
    {
      "cell_type": "code",
      "execution_count": null,
      "id": "3b31028d",
      "metadata": {
        "execution": {
          "iopub.execute_input": "2023-05-09T17:31:21.782407Z",
          "iopub.status.busy": "2023-05-09T17:31:21.781939Z",
          "iopub.status.idle": "2023-05-09T17:31:21.791626Z",
          "shell.execute_reply": "2023-05-09T17:31:21.789886Z"
        },
        "papermill": {
          "duration": 0.031337,
          "end_time": "2023-05-09T17:31:21.794102",
          "exception": false,
          "start_time": "2023-05-09T17:31:21.762765",
          "status": "completed"
        },
        "tags": [],
        "id": "3b31028d",
        "outputId": "e348496a-5a20-4a9f-89a7-76c515f5e5e7",
        "colab": {
          "base_uri": "https://localhost:8080/"
        }
      },
      "outputs": [
        {
          "output_type": "stream",
          "name": "stdout",
          "text": [
            "French\n"
          ]
        }
      ],
      "source": [
        "text =\"également préciser\"\n",
        "x = count.transform([text])\n",
        "pred = language_detect_model.predict(x)\n",
        "print(getcodel(pred))"
      ]
    },
    {
      "cell_type": "code",
      "execution_count": null,
      "id": "9fd38943",
      "metadata": {
        "execution": {
          "iopub.execute_input": "2023-05-09T17:31:21.827200Z",
          "iopub.status.busy": "2023-05-09T17:31:21.826738Z",
          "iopub.status.idle": "2023-05-09T17:31:21.838558Z",
          "shell.execute_reply": "2023-05-09T17:31:21.836558Z"
        },
        "papermill": {
          "duration": 0.031321,
          "end_time": "2023-05-09T17:31:21.841181",
          "exception": false,
          "start_time": "2023-05-09T17:31:21.809860",
          "status": "completed"
        },
        "tags": [],
        "id": "9fd38943",
        "outputId": "e993ea86-e44e-4dca-8025-1ed6bbd94e77",
        "colab": {
          "base_uri": "https://localhost:8080/"
        }
      },
      "outputs": [
        {
          "output_type": "stream",
          "name": "stdout",
          "text": [
            "Malayalam\n"
          ]
        }
      ],
      "source": [
        "text =\"വളരെ പെട്ടെന്നു\"\n",
        "x = count.transform([text])\n",
        "pred = language_detect_model.predict(x)\n",
        "print(getcodel(pred))"
      ]
    },
    {
      "cell_type": "code",
      "execution_count": null,
      "id": "5ff4d18c",
      "metadata": {
        "execution": {
          "iopub.execute_input": "2023-05-09T17:31:21.876319Z",
          "iopub.status.busy": "2023-05-09T17:31:21.875922Z",
          "iopub.status.idle": "2023-05-09T17:31:21.884391Z",
          "shell.execute_reply": "2023-05-09T17:31:21.882981Z"
        },
        "papermill": {
          "duration": 0.028113,
          "end_time": "2023-05-09T17:31:21.886540",
          "exception": false,
          "start_time": "2023-05-09T17:31:21.858427",
          "status": "completed"
        },
        "tags": [],
        "id": "5ff4d18c",
        "outputId": "c7ba3c42-5424-4a66-8b84-bf20b53d2dcc",
        "colab": {
          "base_uri": "https://localhost:8080/"
        }
      },
      "outputs": [
        {
          "output_type": "stream",
          "name": "stdout",
          "text": [
            "Arabic\n"
          ]
        }
      ],
      "source": [
        "text =\"من\"\n",
        "x = count.transform([text])\n",
        "pred = language_detect_model.predict(x)\n",
        "print(getcodel(pred))"
      ]
    },
    {
      "cell_type": "code",
      "execution_count": null,
      "id": "cdeddfbc",
      "metadata": {
        "execution": {
          "iopub.execute_input": "2023-05-09T17:31:21.921608Z",
          "iopub.status.busy": "2023-05-09T17:31:21.920733Z",
          "iopub.status.idle": "2023-05-09T17:31:21.962295Z",
          "shell.execute_reply": "2023-05-09T17:31:21.960855Z"
        },
        "papermill": {
          "duration": 0.062652,
          "end_time": "2023-05-09T17:31:21.965014",
          "exception": false,
          "start_time": "2023-05-09T17:31:21.902362",
          "status": "completed"
        },
        "tags": [],
        "id": "cdeddfbc"
      },
      "outputs": [],
      "source": [
        "import pickle\n",
        "with open('count.pickle', 'wb') as handle:\n",
        "    pickle.dump(count,handle)\n",
        "# save the model to disk\n",
        "filename = 'MultinomialNB.sav'\n",
        "pickle.dump(language_detect_model, open(filename, 'wb'))\n"
      ]
    },
    {
      "cell_type": "code",
      "execution_count": null,
      "id": "5e303a66",
      "metadata": {
        "execution": {
          "iopub.execute_input": "2023-05-09T17:31:22.000936Z",
          "iopub.status.busy": "2023-05-09T17:31:22.000489Z",
          "iopub.status.idle": "2023-05-09T17:31:22.032956Z",
          "shell.execute_reply": "2023-05-09T17:31:22.031240Z"
        },
        "papermill": {
          "duration": 0.053242,
          "end_time": "2023-05-09T17:31:22.036078",
          "exception": false,
          "start_time": "2023-05-09T17:31:21.982836",
          "status": "completed"
        },
        "tags": [],
        "id": "5e303a66"
      },
      "outputs": [],
      "source": [
        "import pickle\n",
        "with open('count.pickle', 'rb') as handle:\n",
        "    count = pickle.load(handle)\n",
        "\n",
        "with open('MultinomialNB.sav', 'rb') as handle:\n",
        "    language_detect_model = pickle.load(handle)\n"
      ]
    }
  ],
  "metadata": {
    "kernelspec": {
      "display_name": "Python 3",
      "language": "python",
      "name": "python3"
    },
    "language_info": {
      "codemirror_mode": {
        "name": "ipython",
        "version": 3
      },
      "file_extension": ".py",
      "mimetype": "text/x-python",
      "name": "python",
      "nbconvert_exporter": "python",
      "pygments_lexer": "ipython3",
      "version": "3.10.10"
    },
    "papermill": {
      "default_parameters": {},
      "duration": 109.973943,
      "end_time": "2023-05-09T17:31:25.406349",
      "environment_variables": {},
      "exception": null,
      "input_path": "__notebook__.ipynb",
      "output_path": "__notebook__.ipynb",
      "parameters": {},
      "start_time": "2023-05-09T17:29:35.432406",
      "version": "2.4.0"
    },
    "colab": {
      "provenance": []
    }
  },
  "nbformat": 4,
  "nbformat_minor": 5
}